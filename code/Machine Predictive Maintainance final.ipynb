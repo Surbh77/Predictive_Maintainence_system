{
 "cells": [
  {
   "cell_type": "code",
   "execution_count": 70,
   "id": "f05122c9",
   "metadata": {},
   "outputs": [],
   "source": [
    "import pandas as pd\n",
    "import numpy as np\n",
    "import pickle\n",
    "\n",
    "from skfeature.function.similarity_based import fisher_score\n",
    "from sklearn.feature_selection import mutual_info_classif,mutual_info_regression\n",
    "from sklearn.preprocessing import LabelEncoder\n",
    "from sklearn.model_selection import train_test_split\n",
    "from sklearn.tree import DecisionTreeClassifier\n",
    "from sklearn.ensemble import RandomForestClassifier,AdaBoostClassifier\n",
    "from sklearn.neighbors import KNeighborsClassifier\n",
    "from sklearn.metrics import confusion_matrix,classification_report,accuracy_score\n",
    "from sklearn.cluster import KMeans\n",
    "from sklearn.naive_bayes import MultinomialNB,GaussianNB,BernoulliNB\n",
    "\n",
    "from tqdm import tqdm\n",
    "import seaborn as sns\n",
    "import matplotlib.pyplot as plt\n",
    "\n",
    "import warnings  \n",
    "warnings.filterwarnings(\"ignore\")"
   ]
  },
  {
   "cell_type": "code",
   "execution_count": 2,
   "id": "bf27208f",
   "metadata": {},
   "outputs": [
    {
     "data": {
      "text/html": [
       "<div>\n",
       "<style scoped>\n",
       "    .dataframe tbody tr th:only-of-type {\n",
       "        vertical-align: middle;\n",
       "    }\n",
       "\n",
       "    .dataframe tbody tr th {\n",
       "        vertical-align: top;\n",
       "    }\n",
       "\n",
       "    .dataframe thead th {\n",
       "        text-align: right;\n",
       "    }\n",
       "</style>\n",
       "<table border=\"1\" class=\"dataframe\">\n",
       "  <thead>\n",
       "    <tr style=\"text-align: right;\">\n",
       "      <th></th>\n",
       "      <th>UDI</th>\n",
       "      <th>Product ID</th>\n",
       "      <th>Type</th>\n",
       "      <th>Air temperature [K]</th>\n",
       "      <th>Process temperature [K]</th>\n",
       "      <th>Rotational speed [rpm]</th>\n",
       "      <th>Torque [Nm]</th>\n",
       "      <th>Tool wear [min]</th>\n",
       "      <th>Target</th>\n",
       "      <th>Failure Type</th>\n",
       "    </tr>\n",
       "  </thead>\n",
       "  <tbody>\n",
       "    <tr>\n",
       "      <th>0</th>\n",
       "      <td>1</td>\n",
       "      <td>M14860</td>\n",
       "      <td>M</td>\n",
       "      <td>298.1</td>\n",
       "      <td>308.6</td>\n",
       "      <td>1551</td>\n",
       "      <td>42.8</td>\n",
       "      <td>0</td>\n",
       "      <td>0</td>\n",
       "      <td>No Failure</td>\n",
       "    </tr>\n",
       "    <tr>\n",
       "      <th>1</th>\n",
       "      <td>2</td>\n",
       "      <td>L47181</td>\n",
       "      <td>L</td>\n",
       "      <td>298.2</td>\n",
       "      <td>308.7</td>\n",
       "      <td>1408</td>\n",
       "      <td>46.3</td>\n",
       "      <td>3</td>\n",
       "      <td>0</td>\n",
       "      <td>No Failure</td>\n",
       "    </tr>\n",
       "    <tr>\n",
       "      <th>2</th>\n",
       "      <td>3</td>\n",
       "      <td>L47182</td>\n",
       "      <td>L</td>\n",
       "      <td>298.1</td>\n",
       "      <td>308.5</td>\n",
       "      <td>1498</td>\n",
       "      <td>49.4</td>\n",
       "      <td>5</td>\n",
       "      <td>0</td>\n",
       "      <td>No Failure</td>\n",
       "    </tr>\n",
       "    <tr>\n",
       "      <th>3</th>\n",
       "      <td>4</td>\n",
       "      <td>L47183</td>\n",
       "      <td>L</td>\n",
       "      <td>298.2</td>\n",
       "      <td>308.6</td>\n",
       "      <td>1433</td>\n",
       "      <td>39.5</td>\n",
       "      <td>7</td>\n",
       "      <td>0</td>\n",
       "      <td>No Failure</td>\n",
       "    </tr>\n",
       "    <tr>\n",
       "      <th>4</th>\n",
       "      <td>5</td>\n",
       "      <td>L47184</td>\n",
       "      <td>L</td>\n",
       "      <td>298.2</td>\n",
       "      <td>308.7</td>\n",
       "      <td>1408</td>\n",
       "      <td>40.0</td>\n",
       "      <td>9</td>\n",
       "      <td>0</td>\n",
       "      <td>No Failure</td>\n",
       "    </tr>\n",
       "    <tr>\n",
       "      <th>...</th>\n",
       "      <td>...</td>\n",
       "      <td>...</td>\n",
       "      <td>...</td>\n",
       "      <td>...</td>\n",
       "      <td>...</td>\n",
       "      <td>...</td>\n",
       "      <td>...</td>\n",
       "      <td>...</td>\n",
       "      <td>...</td>\n",
       "      <td>...</td>\n",
       "    </tr>\n",
       "    <tr>\n",
       "      <th>9995</th>\n",
       "      <td>9996</td>\n",
       "      <td>M24855</td>\n",
       "      <td>M</td>\n",
       "      <td>298.8</td>\n",
       "      <td>308.4</td>\n",
       "      <td>1604</td>\n",
       "      <td>29.5</td>\n",
       "      <td>14</td>\n",
       "      <td>0</td>\n",
       "      <td>No Failure</td>\n",
       "    </tr>\n",
       "    <tr>\n",
       "      <th>9996</th>\n",
       "      <td>9997</td>\n",
       "      <td>H39410</td>\n",
       "      <td>H</td>\n",
       "      <td>298.9</td>\n",
       "      <td>308.4</td>\n",
       "      <td>1632</td>\n",
       "      <td>31.8</td>\n",
       "      <td>17</td>\n",
       "      <td>0</td>\n",
       "      <td>No Failure</td>\n",
       "    </tr>\n",
       "    <tr>\n",
       "      <th>9997</th>\n",
       "      <td>9998</td>\n",
       "      <td>M24857</td>\n",
       "      <td>M</td>\n",
       "      <td>299.0</td>\n",
       "      <td>308.6</td>\n",
       "      <td>1645</td>\n",
       "      <td>33.4</td>\n",
       "      <td>22</td>\n",
       "      <td>0</td>\n",
       "      <td>No Failure</td>\n",
       "    </tr>\n",
       "    <tr>\n",
       "      <th>9998</th>\n",
       "      <td>9999</td>\n",
       "      <td>H39412</td>\n",
       "      <td>H</td>\n",
       "      <td>299.0</td>\n",
       "      <td>308.7</td>\n",
       "      <td>1408</td>\n",
       "      <td>48.5</td>\n",
       "      <td>25</td>\n",
       "      <td>0</td>\n",
       "      <td>No Failure</td>\n",
       "    </tr>\n",
       "    <tr>\n",
       "      <th>9999</th>\n",
       "      <td>10000</td>\n",
       "      <td>M24859</td>\n",
       "      <td>M</td>\n",
       "      <td>299.0</td>\n",
       "      <td>308.7</td>\n",
       "      <td>1500</td>\n",
       "      <td>40.2</td>\n",
       "      <td>30</td>\n",
       "      <td>0</td>\n",
       "      <td>No Failure</td>\n",
       "    </tr>\n",
       "  </tbody>\n",
       "</table>\n",
       "<p>10000 rows × 10 columns</p>\n",
       "</div>"
      ],
      "text/plain": [
       "        UDI Product ID Type  Air temperature [K]  Process temperature [K]  \\\n",
       "0         1     M14860    M                298.1                    308.6   \n",
       "1         2     L47181    L                298.2                    308.7   \n",
       "2         3     L47182    L                298.1                    308.5   \n",
       "3         4     L47183    L                298.2                    308.6   \n",
       "4         5     L47184    L                298.2                    308.7   \n",
       "...     ...        ...  ...                  ...                      ...   \n",
       "9995   9996     M24855    M                298.8                    308.4   \n",
       "9996   9997     H39410    H                298.9                    308.4   \n",
       "9997   9998     M24857    M                299.0                    308.6   \n",
       "9998   9999     H39412    H                299.0                    308.7   \n",
       "9999  10000     M24859    M                299.0                    308.7   \n",
       "\n",
       "      Rotational speed [rpm]  Torque [Nm]  Tool wear [min]  Target  \\\n",
       "0                       1551         42.8                0       0   \n",
       "1                       1408         46.3                3       0   \n",
       "2                       1498         49.4                5       0   \n",
       "3                       1433         39.5                7       0   \n",
       "4                       1408         40.0                9       0   \n",
       "...                      ...          ...              ...     ...   \n",
       "9995                    1604         29.5               14       0   \n",
       "9996                    1632         31.8               17       0   \n",
       "9997                    1645         33.4               22       0   \n",
       "9998                    1408         48.5               25       0   \n",
       "9999                    1500         40.2               30       0   \n",
       "\n",
       "     Failure Type  \n",
       "0      No Failure  \n",
       "1      No Failure  \n",
       "2      No Failure  \n",
       "3      No Failure  \n",
       "4      No Failure  \n",
       "...           ...  \n",
       "9995   No Failure  \n",
       "9996   No Failure  \n",
       "9997   No Failure  \n",
       "9998   No Failure  \n",
       "9999   No Failure  \n",
       "\n",
       "[10000 rows x 10 columns]"
      ]
     },
     "execution_count": 2,
     "metadata": {},
     "output_type": "execute_result"
    }
   ],
   "source": [
    "df1=pd.DataFrame(pd.read_csv(r'G:\\Python Data Science\\Projects\\Machine Predictive Maintenance Classification\\Dataset\\predictive_maintenance.csv'))\n",
    "df1"
   ]
  },
  {
   "cell_type": "markdown",
   "id": "32b1d7e9",
   "metadata": {},
   "source": [
    "# Feature Selection"
   ]
  },
  {
   "cell_type": "code",
   "execution_count": 3,
   "id": "17b39517",
   "metadata": {},
   "outputs": [
    {
     "data": {
      "text/html": [
       "<div>\n",
       "<style scoped>\n",
       "    .dataframe tbody tr th:only-of-type {\n",
       "        vertical-align: middle;\n",
       "    }\n",
       "\n",
       "    .dataframe tbody tr th {\n",
       "        vertical-align: top;\n",
       "    }\n",
       "\n",
       "    .dataframe thead th {\n",
       "        text-align: right;\n",
       "    }\n",
       "</style>\n",
       "<table border=\"1\" class=\"dataframe\">\n",
       "  <thead>\n",
       "    <tr style=\"text-align: right;\">\n",
       "      <th></th>\n",
       "      <th>Type</th>\n",
       "      <th>Air temperature [K]</th>\n",
       "      <th>Process temperature [K]</th>\n",
       "      <th>Rotational speed [rpm]</th>\n",
       "      <th>Torque [Nm]</th>\n",
       "      <th>Tool wear [min]</th>\n",
       "      <th>Target</th>\n",
       "      <th>Failure Type</th>\n",
       "    </tr>\n",
       "  </thead>\n",
       "  <tbody>\n",
       "    <tr>\n",
       "      <th>0</th>\n",
       "      <td>M</td>\n",
       "      <td>298.1</td>\n",
       "      <td>308.6</td>\n",
       "      <td>1551</td>\n",
       "      <td>42.8</td>\n",
       "      <td>0</td>\n",
       "      <td>0</td>\n",
       "      <td>No Failure</td>\n",
       "    </tr>\n",
       "    <tr>\n",
       "      <th>1</th>\n",
       "      <td>L</td>\n",
       "      <td>298.2</td>\n",
       "      <td>308.7</td>\n",
       "      <td>1408</td>\n",
       "      <td>46.3</td>\n",
       "      <td>3</td>\n",
       "      <td>0</td>\n",
       "      <td>No Failure</td>\n",
       "    </tr>\n",
       "    <tr>\n",
       "      <th>2</th>\n",
       "      <td>L</td>\n",
       "      <td>298.1</td>\n",
       "      <td>308.5</td>\n",
       "      <td>1498</td>\n",
       "      <td>49.4</td>\n",
       "      <td>5</td>\n",
       "      <td>0</td>\n",
       "      <td>No Failure</td>\n",
       "    </tr>\n",
       "    <tr>\n",
       "      <th>3</th>\n",
       "      <td>L</td>\n",
       "      <td>298.2</td>\n",
       "      <td>308.6</td>\n",
       "      <td>1433</td>\n",
       "      <td>39.5</td>\n",
       "      <td>7</td>\n",
       "      <td>0</td>\n",
       "      <td>No Failure</td>\n",
       "    </tr>\n",
       "    <tr>\n",
       "      <th>4</th>\n",
       "      <td>L</td>\n",
       "      <td>298.2</td>\n",
       "      <td>308.7</td>\n",
       "      <td>1408</td>\n",
       "      <td>40.0</td>\n",
       "      <td>9</td>\n",
       "      <td>0</td>\n",
       "      <td>No Failure</td>\n",
       "    </tr>\n",
       "    <tr>\n",
       "      <th>...</th>\n",
       "      <td>...</td>\n",
       "      <td>...</td>\n",
       "      <td>...</td>\n",
       "      <td>...</td>\n",
       "      <td>...</td>\n",
       "      <td>...</td>\n",
       "      <td>...</td>\n",
       "      <td>...</td>\n",
       "    </tr>\n",
       "    <tr>\n",
       "      <th>9995</th>\n",
       "      <td>M</td>\n",
       "      <td>298.8</td>\n",
       "      <td>308.4</td>\n",
       "      <td>1604</td>\n",
       "      <td>29.5</td>\n",
       "      <td>14</td>\n",
       "      <td>0</td>\n",
       "      <td>No Failure</td>\n",
       "    </tr>\n",
       "    <tr>\n",
       "      <th>9996</th>\n",
       "      <td>H</td>\n",
       "      <td>298.9</td>\n",
       "      <td>308.4</td>\n",
       "      <td>1632</td>\n",
       "      <td>31.8</td>\n",
       "      <td>17</td>\n",
       "      <td>0</td>\n",
       "      <td>No Failure</td>\n",
       "    </tr>\n",
       "    <tr>\n",
       "      <th>9997</th>\n",
       "      <td>M</td>\n",
       "      <td>299.0</td>\n",
       "      <td>308.6</td>\n",
       "      <td>1645</td>\n",
       "      <td>33.4</td>\n",
       "      <td>22</td>\n",
       "      <td>0</td>\n",
       "      <td>No Failure</td>\n",
       "    </tr>\n",
       "    <tr>\n",
       "      <th>9998</th>\n",
       "      <td>H</td>\n",
       "      <td>299.0</td>\n",
       "      <td>308.7</td>\n",
       "      <td>1408</td>\n",
       "      <td>48.5</td>\n",
       "      <td>25</td>\n",
       "      <td>0</td>\n",
       "      <td>No Failure</td>\n",
       "    </tr>\n",
       "    <tr>\n",
       "      <th>9999</th>\n",
       "      <td>M</td>\n",
       "      <td>299.0</td>\n",
       "      <td>308.7</td>\n",
       "      <td>1500</td>\n",
       "      <td>40.2</td>\n",
       "      <td>30</td>\n",
       "      <td>0</td>\n",
       "      <td>No Failure</td>\n",
       "    </tr>\n",
       "  </tbody>\n",
       "</table>\n",
       "<p>10000 rows × 8 columns</p>\n",
       "</div>"
      ],
      "text/plain": [
       "     Type  Air temperature [K]  Process temperature [K]  \\\n",
       "0       M                298.1                    308.6   \n",
       "1       L                298.2                    308.7   \n",
       "2       L                298.1                    308.5   \n",
       "3       L                298.2                    308.6   \n",
       "4       L                298.2                    308.7   \n",
       "...   ...                  ...                      ...   \n",
       "9995    M                298.8                    308.4   \n",
       "9996    H                298.9                    308.4   \n",
       "9997    M                299.0                    308.6   \n",
       "9998    H                299.0                    308.7   \n",
       "9999    M                299.0                    308.7   \n",
       "\n",
       "      Rotational speed [rpm]  Torque [Nm]  Tool wear [min]  Target  \\\n",
       "0                       1551         42.8                0       0   \n",
       "1                       1408         46.3                3       0   \n",
       "2                       1498         49.4                5       0   \n",
       "3                       1433         39.5                7       0   \n",
       "4                       1408         40.0                9       0   \n",
       "...                      ...          ...              ...     ...   \n",
       "9995                    1604         29.5               14       0   \n",
       "9996                    1632         31.8               17       0   \n",
       "9997                    1645         33.4               22       0   \n",
       "9998                    1408         48.5               25       0   \n",
       "9999                    1500         40.2               30       0   \n",
       "\n",
       "     Failure Type  \n",
       "0      No Failure  \n",
       "1      No Failure  \n",
       "2      No Failure  \n",
       "3      No Failure  \n",
       "4      No Failure  \n",
       "...           ...  \n",
       "9995   No Failure  \n",
       "9996   No Failure  \n",
       "9997   No Failure  \n",
       "9998   No Failure  \n",
       "9999   No Failure  \n",
       "\n",
       "[10000 rows x 8 columns]"
      ]
     },
     "execution_count": 3,
     "metadata": {},
     "output_type": "execute_result"
    }
   ],
   "source": [
    "df=df1.drop(['UDI','Product ID'],axis=1)\n",
    "df"
   ]
  },
  {
   "cell_type": "markdown",
   "id": "48b801b3",
   "metadata": {},
   "source": [
    "# EDA"
   ]
  },
  {
   "cell_type": "code",
   "execution_count": 4,
   "id": "e3d7e2ab",
   "metadata": {},
   "outputs": [
    {
     "data": {
      "text/plain": [
       "<AxesSubplot:>"
      ]
     },
     "execution_count": 4,
     "metadata": {},
     "output_type": "execute_result"
    },
    {
     "data": {
      "image/png": "[encoded data removed]",
      "text/plain": [
       "<Figure size 1800x1800 with 1 Axes>"
      ]
     },
     "metadata": {
      "needs_background": "light"
     },
     "output_type": "display_data"
    }
   ],
   "source": [
    "plt.figure(figsize=(25,25))\n",
    "df.boxplot()"
   ]
  },
  {
   "cell_type": "code",
   "execution_count": 5,
   "id": "49cc0aa8",
   "metadata": {},
   "outputs": [
    {
     "data": {
      "text/html": [
       "<div>\n",
       "<style scoped>\n",
       "    .dataframe tbody tr th:only-of-type {\n",
       "        vertical-align: middle;\n",
       "    }\n",
       "\n",
       "    .dataframe tbody tr th {\n",
       "        vertical-align: top;\n",
       "    }\n",
       "\n",
       "    .dataframe thead th {\n",
       "        text-align: right;\n",
       "    }\n",
       "</style>\n",
       "<table border=\"1\" class=\"dataframe\">\n",
       "  <thead>\n",
       "    <tr style=\"text-align: right;\">\n",
       "      <th></th>\n",
       "      <th>Air temperature [K]</th>\n",
       "      <th>Process temperature [K]</th>\n",
       "      <th>Rotational speed [rpm]</th>\n",
       "      <th>Torque [Nm]</th>\n",
       "      <th>Tool wear [min]</th>\n",
       "      <th>Target</th>\n",
       "    </tr>\n",
       "  </thead>\n",
       "  <tbody>\n",
       "    <tr>\n",
       "      <th>count</th>\n",
       "      <td>10000.000000</td>\n",
       "      <td>10000.000000</td>\n",
       "      <td>10000.000000</td>\n",
       "      <td>10000.000000</td>\n",
       "      <td>10000.000000</td>\n",
       "      <td>10000.000000</td>\n",
       "    </tr>\n",
       "    <tr>\n",
       "      <th>mean</th>\n",
       "      <td>300.004930</td>\n",
       "      <td>310.005560</td>\n",
       "      <td>1538.776100</td>\n",
       "      <td>39.986910</td>\n",
       "      <td>107.951000</td>\n",
       "      <td>0.033900</td>\n",
       "    </tr>\n",
       "    <tr>\n",
       "      <th>std</th>\n",
       "      <td>2.000259</td>\n",
       "      <td>1.483734</td>\n",
       "      <td>179.284096</td>\n",
       "      <td>9.968934</td>\n",
       "      <td>63.654147</td>\n",
       "      <td>0.180981</td>\n",
       "    </tr>\n",
       "    <tr>\n",
       "      <th>min</th>\n",
       "      <td>295.300000</td>\n",
       "      <td>305.700000</td>\n",
       "      <td>1168.000000</td>\n",
       "      <td>3.800000</td>\n",
       "      <td>0.000000</td>\n",
       "      <td>0.000000</td>\n",
       "    </tr>\n",
       "    <tr>\n",
       "      <th>25%</th>\n",
       "      <td>298.300000</td>\n",
       "      <td>308.800000</td>\n",
       "      <td>1423.000000</td>\n",
       "      <td>33.200000</td>\n",
       "      <td>53.000000</td>\n",
       "      <td>0.000000</td>\n",
       "    </tr>\n",
       "    <tr>\n",
       "      <th>50%</th>\n",
       "      <td>300.100000</td>\n",
       "      <td>310.100000</td>\n",
       "      <td>1503.000000</td>\n",
       "      <td>40.100000</td>\n",
       "      <td>108.000000</td>\n",
       "      <td>0.000000</td>\n",
       "    </tr>\n",
       "    <tr>\n",
       "      <th>75%</th>\n",
       "      <td>301.500000</td>\n",
       "      <td>311.100000</td>\n",
       "      <td>1612.000000</td>\n",
       "      <td>46.800000</td>\n",
       "      <td>162.000000</td>\n",
       "      <td>0.000000</td>\n",
       "    </tr>\n",
       "    <tr>\n",
       "      <th>max</th>\n",
       "      <td>304.500000</td>\n",
       "      <td>313.800000</td>\n",
       "      <td>2886.000000</td>\n",
       "      <td>76.600000</td>\n",
       "      <td>253.000000</td>\n",
       "      <td>1.000000</td>\n",
       "    </tr>\n",
       "  </tbody>\n",
       "</table>\n",
       "</div>"
      ],
      "text/plain": [
       "       Air temperature [K]  Process temperature [K]  Rotational speed [rpm]  \\\n",
       "count         10000.000000             10000.000000            10000.000000   \n",
       "mean            300.004930               310.005560             1538.776100   \n",
       "std               2.000259                 1.483734              179.284096   \n",
       "min             295.300000               305.700000             1168.000000   \n",
       "25%             298.300000               308.800000             1423.000000   \n",
       "50%             300.100000               310.100000             1503.000000   \n",
       "75%             301.500000               311.100000             1612.000000   \n",
       "max             304.500000               313.800000             2886.000000   \n",
       "\n",
       "        Torque [Nm]  Tool wear [min]        Target  \n",
       "count  10000.000000     10000.000000  10000.000000  \n",
       "mean      39.986910       107.951000      0.033900  \n",
       "std        9.968934        63.654147      0.180981  \n",
       "min        3.800000         0.000000      0.000000  \n",
       "25%       33.200000        53.000000      0.000000  \n",
       "50%       40.100000       108.000000      0.000000  \n",
       "75%       46.800000       162.000000      0.000000  \n",
       "max       76.600000       253.000000      1.000000  "
      ]
     },
     "execution_count": 5,
     "metadata": {},
     "output_type": "execute_result"
    }
   ],
   "source": [
    "df.describe()"
   ]
  },
  {
   "cell_type": "code",
   "execution_count": 6,
   "id": "0b66a2f0",
   "metadata": {},
   "outputs": [
    {
     "data": {
      "text/html": [
       "<div>\n",
       "<style scoped>\n",
       "    .dataframe tbody tr th:only-of-type {\n",
       "        vertical-align: middle;\n",
       "    }\n",
       "\n",
       "    .dataframe tbody tr th {\n",
       "        vertical-align: top;\n",
       "    }\n",
       "\n",
       "    .dataframe thead th {\n",
       "        text-align: right;\n",
       "    }\n",
       "</style>\n",
       "<table border=\"1\" class=\"dataframe\">\n",
       "  <thead>\n",
       "    <tr style=\"text-align: right;\">\n",
       "      <th></th>\n",
       "      <th>Air temperature [K]</th>\n",
       "      <th>Process temperature [K]</th>\n",
       "      <th>Rotational speed [rpm]</th>\n",
       "      <th>Torque [Nm]</th>\n",
       "      <th>Tool wear [min]</th>\n",
       "      <th>Target</th>\n",
       "    </tr>\n",
       "  </thead>\n",
       "  <tbody>\n",
       "    <tr>\n",
       "      <th>Air temperature [K]</th>\n",
       "      <td>1.000000</td>\n",
       "      <td>0.876107</td>\n",
       "      <td>0.022670</td>\n",
       "      <td>-0.013778</td>\n",
       "      <td>0.013853</td>\n",
       "      <td>0.082556</td>\n",
       "    </tr>\n",
       "    <tr>\n",
       "      <th>Process temperature [K]</th>\n",
       "      <td>0.876107</td>\n",
       "      <td>1.000000</td>\n",
       "      <td>0.019277</td>\n",
       "      <td>-0.014061</td>\n",
       "      <td>0.013488</td>\n",
       "      <td>0.035946</td>\n",
       "    </tr>\n",
       "    <tr>\n",
       "      <th>Rotational speed [rpm]</th>\n",
       "      <td>0.022670</td>\n",
       "      <td>0.019277</td>\n",
       "      <td>1.000000</td>\n",
       "      <td>-0.875027</td>\n",
       "      <td>0.000223</td>\n",
       "      <td>-0.044188</td>\n",
       "    </tr>\n",
       "    <tr>\n",
       "      <th>Torque [Nm]</th>\n",
       "      <td>-0.013778</td>\n",
       "      <td>-0.014061</td>\n",
       "      <td>-0.875027</td>\n",
       "      <td>1.000000</td>\n",
       "      <td>-0.003093</td>\n",
       "      <td>0.191321</td>\n",
       "    </tr>\n",
       "    <tr>\n",
       "      <th>Tool wear [min]</th>\n",
       "      <td>0.013853</td>\n",
       "      <td>0.013488</td>\n",
       "      <td>0.000223</td>\n",
       "      <td>-0.003093</td>\n",
       "      <td>1.000000</td>\n",
       "      <td>0.105448</td>\n",
       "    </tr>\n",
       "    <tr>\n",
       "      <th>Target</th>\n",
       "      <td>0.082556</td>\n",
       "      <td>0.035946</td>\n",
       "      <td>-0.044188</td>\n",
       "      <td>0.191321</td>\n",
       "      <td>0.105448</td>\n",
       "      <td>1.000000</td>\n",
       "    </tr>\n",
       "  </tbody>\n",
       "</table>\n",
       "</div>"
      ],
      "text/plain": [
       "                         Air temperature [K]  Process temperature [K]  \\\n",
       "Air temperature [K]                 1.000000                 0.876107   \n",
       "Process temperature [K]             0.876107                 1.000000   \n",
       "Rotational speed [rpm]              0.022670                 0.019277   \n",
       "Torque [Nm]                        -0.013778                -0.014061   \n",
       "Tool wear [min]                     0.013853                 0.013488   \n",
       "Target                              0.082556                 0.035946   \n",
       "\n",
       "                         Rotational speed [rpm]  Torque [Nm]  Tool wear [min]  \\\n",
       "Air temperature [K]                    0.022670    -0.013778         0.013853   \n",
       "Process temperature [K]                0.019277    -0.014061         0.013488   \n",
       "Rotational speed [rpm]                 1.000000    -0.875027         0.000223   \n",
       "Torque [Nm]                           -0.875027     1.000000        -0.003093   \n",
       "Tool wear [min]                        0.000223    -0.003093         1.000000   \n",
       "Target                                -0.044188     0.191321         0.105448   \n",
       "\n",
       "                           Target  \n",
       "Air temperature [K]      0.082556  \n",
       "Process temperature [K]  0.035946  \n",
       "Rotational speed [rpm]  -0.044188  \n",
       "Torque [Nm]              0.191321  \n",
       "Tool wear [min]          0.105448  \n",
       "Target                   1.000000  "
      ]
     },
     "execution_count": 6,
     "metadata": {},
     "output_type": "execute_result"
    }
   ],
   "source": [
    "df.corr()"
   ]
  },
  {
   "cell_type": "code",
   "execution_count": 7,
   "id": "1be9e673",
   "metadata": {},
   "outputs": [
    {
     "data": {
      "text/plain": [
       "<seaborn.axisgrid.PairGrid at 0x2aa27aedea0>"
      ]
     },
     "execution_count": 7,
     "metadata": {},
     "output_type": "execute_result"
    },
    {
     "data": {
      "image/png": "[encoded data removed]",
      "text/plain": [
       "<Figure size 1080x1080 with 42 Axes>"
      ]
     },
     "metadata": {
      "needs_background": "light"
     },
     "output_type": "display_data"
    }
   ],
   "source": [
    "sns.pairplot(df.corr())"
   ]
  },
  {
   "cell_type": "code",
   "execution_count": 8,
   "id": "eb99fcc0",
   "metadata": {},
   "outputs": [
    {
     "data": {
      "text/plain": [
       "<AxesSubplot:>"
      ]
     },
     "execution_count": 8,
     "metadata": {},
     "output_type": "execute_result"
    },
    {
     "data": {
      "image/png": "[encoded data removed]",
      "text/plain": [
       "<Figure size 432x288 with 2 Axes>"
      ]
     },
     "metadata": {
      "needs_background": "light"
     },
     "output_type": "display_data"
    }
   ],
   "source": [
    "\n",
    "sns.heatmap(df.corr(),annot=True)"
   ]
  },
  {
   "cell_type": "code",
   "execution_count": 9,
   "id": "b36ac440",
   "metadata": {},
   "outputs": [
    {
     "data": {
      "text/plain": [
       "<AxesSubplot:>"
      ]
     },
     "execution_count": 9,
     "metadata": {},
     "output_type": "execute_result"
    },
    {
     "data": {
      "image/png": "[encoded data removed]",
      "text/plain": [
       "<Figure size 1440x144 with 2 Axes>"
      ]
     },
     "metadata": {
      "needs_background": "light"
     },
     "output_type": "display_data"
    }
   ],
   "source": [
    "plt.figure(figsize=(20,2))\n",
    "sns.heatmap(df.corr(method='spearman').tail(1),annot=True)"
   ]
  },
  {
   "cell_type": "code",
   "execution_count": 10,
   "id": "a201cf7e",
   "metadata": {},
   "outputs": [],
   "source": [
    "# # Rotational speed [rpm]\tTorque [Nm]\tTool wear [min]\tTarget\n",
    "# # sns.kdeplot(df['Air temperature [K]'])\n",
    "# # sns.kdeplot(df['Process temperature [K]'])\n",
    "# # sns.kdeplot(df['Rotational speed [rpm]'])\n",
    "# # sns.kdeplot(df['Torque [Nm]'])\n",
    "# # sns.kdeplot(df['Tool wear [min]'])\n",
    "# # sns.kdeplot(df['Target'])\n",
    "# fig,ax=plt.subplots(2,2,figsize=(25,25))\n",
    "# ax[0,1]=ax.imshow(sns.kdeplot(df['Air temperature [K]']))\n",
    "# # for idx,img in enumerate(df.columns):\n",
    "# #     ax[idx].imshow(img)\n",
    "# # #     y=classes_ts[idx]\n",
    "# #     ax[idx].title.set_text(y)"
   ]
  },
  {
   "cell_type": "markdown",
   "id": "80e4bfa3",
   "metadata": {},
   "source": [
    "# Reducing Outliers"
   ]
  },
  {
   "cell_type": "markdown",
   "id": "14d1f225",
   "metadata": {},
   "source": [
    "# 1.Rotational speed [rpm]"
   ]
  },
  {
   "cell_type": "code",
   "execution_count": 11,
   "id": "a8845518",
   "metadata": {},
   "outputs": [],
   "source": [
    "outlier_df=df.drop(['Type','Failure Type'],axis=1)\n",
    "feature_1=df['Type']\n",
    "Failure_Type=df['Failure Type']\n",
    "features=outlier_df.columns\n",
    "features\n",
    "\n",
    "\n",
    "def reducing_outliers(feature):\n",
    "    q1=df[feature].quantile(0.25)\n",
    "    q2=df[feature].quantile(0.5)\n",
    "    q3=df[feature].quantile(0.75)\n",
    "    iqr=q3-q1\n",
    "\n",
    "    up_tl=q3+(iqr*1.5)\n",
    "    lo_tl=q1-(iqr+1.5)\n",
    "    print('Upper Tail:-',up_tl)\n",
    "    print('Lower Tail:-',lo_tl)\n",
    "    sns.boxplot(df[feature])\n",
    "\n",
    "    df[feature].loc[df[feature]>up_tl]=df[feature].median()"
   ]
  },
  {
   "cell_type": "code",
   "execution_count": 12,
   "id": "39c4f1ef",
   "metadata": {},
   "outputs": [
    {
     "name": "stdout",
     "output_type": "stream",
     "text": [
      "Upper Tail:- 306.29999999999995\n",
      "Lower Tail:- 293.6\n",
      "Upper Tail:- 314.55000000000007\n",
      "Lower Tail:- 305.0\n",
      "Upper Tail:- 1895.5\n",
      "Lower Tail:- 1232.5\n",
      "Upper Tail:- 67.19999999999999\n",
      "Lower Tail:- 18.10000000000001\n",
      "Upper Tail:- 325.5\n",
      "Lower Tail:- -57.5\n",
      "Upper Tail:- 0.0\n",
      "Lower Tail:- -1.5\n"
     ]
    },
    {
     "data": {
      "image/png": "[encoded data removed]",
      "text/plain": [
       "<Figure size 432x288 with 1 Axes>"
      ]
     },
     "metadata": {
      "needs_background": "light"
     },
     "output_type": "display_data"
    }
   ],
   "source": [
    "for i in features:\n",
    "    outliers=reducing_outliers(i)\n",
    "    sns.boxplot(df[i])"
   ]
  },
  {
   "cell_type": "code",
   "execution_count": 13,
   "id": "e682b6af",
   "metadata": {},
   "outputs": [
    {
     "name": "stdout",
     "output_type": "stream",
     "text": [
      "Upper Tail:- 1838.0\n",
      "Lower Tail:- 1255.5\n"
     ]
    },
    {
     "data": {
      "image/png": "[encoded data removed]",
      "text/plain": [
       "<Figure size 432x288 with 1 Axes>"
      ]
     },
     "metadata": {
      "needs_background": "light"
     },
     "output_type": "display_data"
    }
   ],
   "source": [
    "q1=df['Rotational speed [rpm]'].quantile(0.25)\n",
    "q2=df['Rotational speed [rpm]'].quantile(0.5)\n",
    "q3=df['Rotational speed [rpm]'].quantile(0.75)\n",
    "iqr=q3-q1\n",
    "\n",
    "up_tl=q3+(iqr*1.5)\n",
    "lo_tl=q1-(iqr+1.5)\n",
    "print('Upper Tail:-',up_tl)\n",
    "print('Lower Tail:-',lo_tl)\n",
    "sns.boxplot(df['Rotational speed [rpm]'])\n",
    "\n",
    "df['Rotational speed [rpm]'].loc[df['Rotational speed [rpm]']>up_tl]=df['Rotational speed [rpm]'].median()"
   ]
  },
  {
   "cell_type": "code",
   "execution_count": 14,
   "id": "8589e170",
   "metadata": {
    "scrolled": false
   },
   "outputs": [
    {
     "data": {
      "text/plain": [
       "<AxesSubplot:xlabel='Rotational speed [rpm]'>"
      ]
     },
     "execution_count": 14,
     "metadata": {},
     "output_type": "execute_result"
    },
    {
     "data": {
      "image/png": "[encoded data removed]",
      "text/plain": [
       "<Figure size 432x288 with 1 Axes>"
      ]
     },
     "metadata": {
      "needs_background": "light"
     },
     "output_type": "display_data"
    }
   ],
   "source": [
    "sns.boxplot(df['Rotational speed [rpm]'])"
   ]
  },
  {
   "cell_type": "markdown",
   "id": "1520e732",
   "metadata": {},
   "source": [
    "# 2.Torque"
   ]
  },
  {
   "cell_type": "code",
   "execution_count": 15,
   "id": "e0bf7996",
   "metadata": {},
   "outputs": [
    {
     "name": "stdout",
     "output_type": "stream",
     "text": [
      "Upper Tail:- 66.7\n",
      "Lower Tail:- 18.300000000000004\n"
     ]
    },
    {
     "data": {
      "image/png": "[encoded data removed]",
      "text/plain": [
       "<Figure size 432x288 with 1 Axes>"
      ]
     },
     "metadata": {
      "needs_background": "light"
     },
     "output_type": "display_data"
    }
   ],
   "source": [
    "q1=df['Torque [Nm]'].quantile(0.25)\n",
    "q2=df['Torque [Nm]'].quantile(0.5)\n",
    "q3=df['Torque [Nm]'].quantile(0.75)\n",
    "iqr=q3-q1\n",
    "\n",
    "up_tl=q3+(iqr*1.5)\n",
    "lo_tl=q1-(iqr+1.5)\n",
    "print('Upper Tail:-',up_tl)\n",
    "print('Lower Tail:-',lo_tl)\n",
    "sns.boxplot(df['Torque [Nm]'])\n",
    "\n",
    "df['Torque [Nm]'].loc[df['Torque [Nm]']>up_tl]=df['Torque [Nm]'].median()\n",
    "df['Torque [Nm]'].loc[df['Torque [Nm]']<lo_tl]=df['Torque [Nm]'].median()"
   ]
  },
  {
   "cell_type": "code",
   "execution_count": 16,
   "id": "659618b9",
   "metadata": {
    "scrolled": true
   },
   "outputs": [
    {
     "data": {
      "text/plain": [
       "<AxesSubplot:xlabel='Torque [Nm]'>"
      ]
     },
     "execution_count": 16,
     "metadata": {},
     "output_type": "execute_result"
    },
    {
     "data": {
      "image/png": "[encoded data removed]",
      "text/plain": [
       "<Figure size 432x288 with 1 Axes>"
      ]
     },
     "metadata": {
      "needs_background": "light"
     },
     "output_type": "display_data"
    }
   ],
   "source": [
    "sns.boxplot(df['Torque [Nm]'])"
   ]
  },
  {
   "cell_type": "code",
   "execution_count": 17,
   "id": "5fb1218f",
   "metadata": {},
   "outputs": [
    {
     "data": {
      "text/plain": [
       "<AxesSubplot:>"
      ]
     },
     "execution_count": 17,
     "metadata": {},
     "output_type": "execute_result"
    },
    {
     "data": {
      "image/png": "[encoded data removed]",
      "text/plain": [
       "<Figure size 1440x1440 with 1 Axes>"
      ]
     },
     "metadata": {
      "needs_background": "light"
     },
     "output_type": "display_data"
    }
   ],
   "source": [
    "plt.figure(figsize=(20,20))\n",
    "df.boxplot()"
   ]
  },
  {
   "cell_type": "markdown",
   "id": "57e426ed",
   "metadata": {},
   "source": [
    "# Encoding the columns"
   ]
  },
  {
   "cell_type": "markdown",
   "id": "b7a5555b",
   "metadata": {},
   "source": [
    "# One hot Encoding"
   ]
  },
  {
   "cell_type": "code",
   "execution_count": 18,
   "id": "b3d4696e",
   "metadata": {},
   "outputs": [
    {
     "data": {
      "text/html": [
       "<div>\n",
       "<style scoped>\n",
       "    .dataframe tbody tr th:only-of-type {\n",
       "        vertical-align: middle;\n",
       "    }\n",
       "\n",
       "    .dataframe tbody tr th {\n",
       "        vertical-align: top;\n",
       "    }\n",
       "\n",
       "    .dataframe thead th {\n",
       "        text-align: right;\n",
       "    }\n",
       "</style>\n",
       "<table border=\"1\" class=\"dataframe\">\n",
       "  <thead>\n",
       "    <tr style=\"text-align: right;\">\n",
       "      <th></th>\n",
       "      <th>Type_H</th>\n",
       "      <th>Type_L</th>\n",
       "      <th>Type_M</th>\n",
       "    </tr>\n",
       "  </thead>\n",
       "  <tbody>\n",
       "    <tr>\n",
       "      <th>0</th>\n",
       "      <td>0</td>\n",
       "      <td>0</td>\n",
       "      <td>1</td>\n",
       "    </tr>\n",
       "    <tr>\n",
       "      <th>1</th>\n",
       "      <td>0</td>\n",
       "      <td>1</td>\n",
       "      <td>0</td>\n",
       "    </tr>\n",
       "    <tr>\n",
       "      <th>2</th>\n",
       "      <td>0</td>\n",
       "      <td>1</td>\n",
       "      <td>0</td>\n",
       "    </tr>\n",
       "    <tr>\n",
       "      <th>3</th>\n",
       "      <td>0</td>\n",
       "      <td>1</td>\n",
       "      <td>0</td>\n",
       "    </tr>\n",
       "    <tr>\n",
       "      <th>4</th>\n",
       "      <td>0</td>\n",
       "      <td>1</td>\n",
       "      <td>0</td>\n",
       "    </tr>\n",
       "    <tr>\n",
       "      <th>...</th>\n",
       "      <td>...</td>\n",
       "      <td>...</td>\n",
       "      <td>...</td>\n",
       "    </tr>\n",
       "    <tr>\n",
       "      <th>9995</th>\n",
       "      <td>0</td>\n",
       "      <td>0</td>\n",
       "      <td>1</td>\n",
       "    </tr>\n",
       "    <tr>\n",
       "      <th>9996</th>\n",
       "      <td>1</td>\n",
       "      <td>0</td>\n",
       "      <td>0</td>\n",
       "    </tr>\n",
       "    <tr>\n",
       "      <th>9997</th>\n",
       "      <td>0</td>\n",
       "      <td>0</td>\n",
       "      <td>1</td>\n",
       "    </tr>\n",
       "    <tr>\n",
       "      <th>9998</th>\n",
       "      <td>1</td>\n",
       "      <td>0</td>\n",
       "      <td>0</td>\n",
       "    </tr>\n",
       "    <tr>\n",
       "      <th>9999</th>\n",
       "      <td>0</td>\n",
       "      <td>0</td>\n",
       "      <td>1</td>\n",
       "    </tr>\n",
       "  </tbody>\n",
       "</table>\n",
       "<p>10000 rows × 3 columns</p>\n",
       "</div>"
      ],
      "text/plain": [
       "      Type_H  Type_L  Type_M\n",
       "0          0       0       1\n",
       "1          0       1       0\n",
       "2          0       1       0\n",
       "3          0       1       0\n",
       "4          0       1       0\n",
       "...      ...     ...     ...\n",
       "9995       0       0       1\n",
       "9996       1       0       0\n",
       "9997       0       0       1\n",
       "9998       1       0       0\n",
       "9999       0       0       1\n",
       "\n",
       "[10000 rows x 3 columns]"
      ]
     },
     "execution_count": 18,
     "metadata": {},
     "output_type": "execute_result"
    }
   ],
   "source": [
    "# encod=pd.get_dummies()\n",
    "typ=pd.get_dummies(df['Type'],prefix='Type')\n",
    "typ\n"
   ]
  },
  {
   "cell_type": "markdown",
   "id": "71db18e1",
   "metadata": {},
   "source": [
    "# Label Encoding"
   ]
  },
  {
   "cell_type": "code",
   "execution_count": 19,
   "id": "6dd99372",
   "metadata": {},
   "outputs": [
    {
     "data": {
      "text/plain": [
       "No Failure                  9652\n",
       "Heat Dissipation Failure     112\n",
       "Power Failure                 95\n",
       "Overstrain Failure            78\n",
       "Tool Wear Failure             45\n",
       "Random Failures               18\n",
       "Name: Failure Type, dtype: int64"
      ]
     },
     "execution_count": 19,
     "metadata": {},
     "output_type": "execute_result"
    }
   ],
   "source": [
    "df['Failure Type'].value_counts()"
   ]
  },
  {
   "cell_type": "code",
   "execution_count": 75,
   "id": "7f97faec",
   "metadata": {},
   "outputs": [
    {
     "data": {
      "text/plain": [
       "Target\n",
       "1         9652\n",
       "0          112\n",
       "3           95\n",
       "2           78\n",
       "5           45\n",
       "4           18\n",
       "dtype: int64"
      ]
     },
     "execution_count": 75,
     "metadata": {},
     "output_type": "execute_result"
    }
   ],
   "source": [
    "lblenco=LabelEncoder()\n",
    "y=lblenco.fit_transform(df['Failure Type'])\n",
    "y=pd.DataFrame(y,columns=['Target'])\n",
    "y.value_counts()"
   ]
  },
  {
   "cell_type": "markdown",
   "id": "93845398",
   "metadata": {},
   "source": [
    "# Feature Engineering"
   ]
  },
  {
   "cell_type": "code",
   "execution_count": 21,
   "id": "f9742233",
   "metadata": {},
   "outputs": [
    {
     "data": {
      "text/html": [
       "<div>\n",
       "<style scoped>\n",
       "    .dataframe tbody tr th:only-of-type {\n",
       "        vertical-align: middle;\n",
       "    }\n",
       "\n",
       "    .dataframe tbody tr th {\n",
       "        vertical-align: top;\n",
       "    }\n",
       "\n",
       "    .dataframe thead th {\n",
       "        text-align: right;\n",
       "    }\n",
       "</style>\n",
       "<table border=\"1\" class=\"dataframe\">\n",
       "  <thead>\n",
       "    <tr style=\"text-align: right;\">\n",
       "      <th></th>\n",
       "      <th>Air temperature [K]</th>\n",
       "      <th>Process temperature [K]</th>\n",
       "      <th>Rotational speed [rpm]</th>\n",
       "      <th>Torque [Nm]</th>\n",
       "      <th>Tool wear [min]</th>\n",
       "      <th>Type_H</th>\n",
       "      <th>Type_L</th>\n",
       "      <th>Type_M</th>\n",
       "    </tr>\n",
       "  </thead>\n",
       "  <tbody>\n",
       "    <tr>\n",
       "      <th>0</th>\n",
       "      <td>298.1</td>\n",
       "      <td>308.6</td>\n",
       "      <td>1551</td>\n",
       "      <td>42.8</td>\n",
       "      <td>0</td>\n",
       "      <td>0</td>\n",
       "      <td>0</td>\n",
       "      <td>1</td>\n",
       "    </tr>\n",
       "    <tr>\n",
       "      <th>1</th>\n",
       "      <td>298.2</td>\n",
       "      <td>308.7</td>\n",
       "      <td>1408</td>\n",
       "      <td>46.3</td>\n",
       "      <td>3</td>\n",
       "      <td>0</td>\n",
       "      <td>1</td>\n",
       "      <td>0</td>\n",
       "    </tr>\n",
       "    <tr>\n",
       "      <th>2</th>\n",
       "      <td>298.1</td>\n",
       "      <td>308.5</td>\n",
       "      <td>1498</td>\n",
       "      <td>49.4</td>\n",
       "      <td>5</td>\n",
       "      <td>0</td>\n",
       "      <td>1</td>\n",
       "      <td>0</td>\n",
       "    </tr>\n",
       "    <tr>\n",
       "      <th>3</th>\n",
       "      <td>298.2</td>\n",
       "      <td>308.6</td>\n",
       "      <td>1433</td>\n",
       "      <td>39.5</td>\n",
       "      <td>7</td>\n",
       "      <td>0</td>\n",
       "      <td>1</td>\n",
       "      <td>0</td>\n",
       "    </tr>\n",
       "    <tr>\n",
       "      <th>4</th>\n",
       "      <td>298.2</td>\n",
       "      <td>308.7</td>\n",
       "      <td>1408</td>\n",
       "      <td>40.0</td>\n",
       "      <td>9</td>\n",
       "      <td>0</td>\n",
       "      <td>1</td>\n",
       "      <td>0</td>\n",
       "    </tr>\n",
       "    <tr>\n",
       "      <th>...</th>\n",
       "      <td>...</td>\n",
       "      <td>...</td>\n",
       "      <td>...</td>\n",
       "      <td>...</td>\n",
       "      <td>...</td>\n",
       "      <td>...</td>\n",
       "      <td>...</td>\n",
       "      <td>...</td>\n",
       "    </tr>\n",
       "    <tr>\n",
       "      <th>9995</th>\n",
       "      <td>298.8</td>\n",
       "      <td>308.4</td>\n",
       "      <td>1604</td>\n",
       "      <td>29.5</td>\n",
       "      <td>14</td>\n",
       "      <td>0</td>\n",
       "      <td>0</td>\n",
       "      <td>1</td>\n",
       "    </tr>\n",
       "    <tr>\n",
       "      <th>9996</th>\n",
       "      <td>298.9</td>\n",
       "      <td>308.4</td>\n",
       "      <td>1632</td>\n",
       "      <td>31.8</td>\n",
       "      <td>17</td>\n",
       "      <td>1</td>\n",
       "      <td>0</td>\n",
       "      <td>0</td>\n",
       "    </tr>\n",
       "    <tr>\n",
       "      <th>9997</th>\n",
       "      <td>299.0</td>\n",
       "      <td>308.6</td>\n",
       "      <td>1645</td>\n",
       "      <td>33.4</td>\n",
       "      <td>22</td>\n",
       "      <td>0</td>\n",
       "      <td>0</td>\n",
       "      <td>1</td>\n",
       "    </tr>\n",
       "    <tr>\n",
       "      <th>9998</th>\n",
       "      <td>299.0</td>\n",
       "      <td>308.7</td>\n",
       "      <td>1408</td>\n",
       "      <td>48.5</td>\n",
       "      <td>25</td>\n",
       "      <td>1</td>\n",
       "      <td>0</td>\n",
       "      <td>0</td>\n",
       "    </tr>\n",
       "    <tr>\n",
       "      <th>9999</th>\n",
       "      <td>299.0</td>\n",
       "      <td>308.7</td>\n",
       "      <td>1500</td>\n",
       "      <td>40.2</td>\n",
       "      <td>30</td>\n",
       "      <td>0</td>\n",
       "      <td>0</td>\n",
       "      <td>1</td>\n",
       "    </tr>\n",
       "  </tbody>\n",
       "</table>\n",
       "<p>10000 rows × 8 columns</p>\n",
       "</div>"
      ],
      "text/plain": [
       "      Air temperature [K]  Process temperature [K]  Rotational speed [rpm]  \\\n",
       "0                   298.1                    308.6                    1551   \n",
       "1                   298.2                    308.7                    1408   \n",
       "2                   298.1                    308.5                    1498   \n",
       "3                   298.2                    308.6                    1433   \n",
       "4                   298.2                    308.7                    1408   \n",
       "...                   ...                      ...                     ...   \n",
       "9995                298.8                    308.4                    1604   \n",
       "9996                298.9                    308.4                    1632   \n",
       "9997                299.0                    308.6                    1645   \n",
       "9998                299.0                    308.7                    1408   \n",
       "9999                299.0                    308.7                    1500   \n",
       "\n",
       "      Torque [Nm]  Tool wear [min]  Type_H  Type_L  Type_M  \n",
       "0            42.8                0       0       0       1  \n",
       "1            46.3                3       0       1       0  \n",
       "2            49.4                5       0       1       0  \n",
       "3            39.5                7       0       1       0  \n",
       "4            40.0                9       0       1       0  \n",
       "...           ...              ...     ...     ...     ...  \n",
       "9995         29.5               14       0       0       1  \n",
       "9996         31.8               17       1       0       0  \n",
       "9997         33.4               22       0       0       1  \n",
       "9998         48.5               25       1       0       0  \n",
       "9999         40.2               30       0       0       1  \n",
       "\n",
       "[10000 rows x 8 columns]"
      ]
     },
     "execution_count": 21,
     "metadata": {},
     "output_type": "execute_result"
    }
   ],
   "source": [
    "z=df.drop(['Target','Failure Type','Type'],axis=1)\n",
    "# y=df['Failure Type']\n",
    "x=pd.concat((z,typ),axis=1)\n",
    "x"
   ]
  },
  {
   "cell_type": "code",
   "execution_count": 22,
   "id": "92fff04d",
   "metadata": {},
   "outputs": [
    {
     "data": {
      "text/plain": [
       "<AxesSubplot:>"
      ]
     },
     "execution_count": 22,
     "metadata": {},
     "output_type": "execute_result"
    },
    {
     "data": {
      "image/png": "[encoded data removed]",
      "text/plain": [
       "<Figure size 432x288 with 1 Axes>"
      ]
     },
     "metadata": {
      "needs_background": "light"
     },
     "output_type": "display_data"
    }
   ],
   "source": [
    "array2=mutual_info_classif(x,y)\n",
    "s2=pd.Series(array2,index=x.columns)\n",
    "s2.sort_values().plot(kind='barh')"
   ]
  },
  {
   "cell_type": "code",
   "execution_count": 23,
   "id": "eefab3d4",
   "metadata": {},
   "outputs": [
    {
     "data": {
      "text/plain": [
       "<AxesSubplot:>"
      ]
     },
     "execution_count": 23,
     "metadata": {},
     "output_type": "execute_result"
    },
    {
     "data": {
      "image/png": "[encoded data removed]",
      "text/plain": [
       "<Figure size 432x288 with 1 Axes>"
      ]
     },
     "metadata": {
      "needs_background": "light"
     },
     "output_type": "display_data"
    }
   ],
   "source": [
    "array2=mutual_info_regression(x,y)\n",
    "s2=pd.Series(array2,index=x.columns)\n",
    "s2.sort_values().plot(kind='barh')"
   ]
  },
  {
   "cell_type": "markdown",
   "id": "a7c17c4b",
   "metadata": {},
   "source": [
    "# Pearson"
   ]
  },
  {
   "cell_type": "code",
   "execution_count": 24,
   "id": "125daec8",
   "metadata": {},
   "outputs": [
    {
     "data": {
      "text/plain": [
       "<AxesSubplot:>"
      ]
     },
     "execution_count": 24,
     "metadata": {},
     "output_type": "execute_result"
    },
    {
     "data": {
      "image/png": "[encoded data removed]",
      "text/plain": [
       "<Figure size 1440x144 with 2 Axes>"
      ]
     },
     "metadata": {
      "needs_background": "light"
     },
     "output_type": "display_data"
    }
   ],
   "source": [
    "plt.figure(figsize=(20,2))\n",
    "sns.heatmap(x.corr(method='spearman').tail(1),annot=True)"
   ]
  },
  {
   "cell_type": "code",
   "execution_count": 25,
   "id": "1245d57e",
   "metadata": {},
   "outputs": [
    {
     "data": {
      "text/plain": [
       "<AxesSubplot:>"
      ]
     },
     "execution_count": 25,
     "metadata": {},
     "output_type": "execute_result"
    },
    {
     "data": {
      "image/png": "[encoded data removed]",
      "text/plain": [
       "<Figure size 1440x144 with 2 Axes>"
      ]
     },
     "metadata": {
      "needs_background": "light"
     },
     "output_type": "display_data"
    }
   ],
   "source": [
    "plt.figure(figsize=(20,2))\n",
    "sns.heatmap(x.corr(method='kendall').tail(1),annot=True)"
   ]
  },
  {
   "cell_type": "markdown",
   "id": "f77205dc",
   "metadata": {},
   "source": [
    "# Train Test SPlit"
   ]
  },
  {
   "cell_type": "code",
   "execution_count": 26,
   "id": "fec1e33e",
   "metadata": {},
   "outputs": [
    {
     "data": {
      "text/html": [
       "<div>\n",
       "<style scoped>\n",
       "    .dataframe tbody tr th:only-of-type {\n",
       "        vertical-align: middle;\n",
       "    }\n",
       "\n",
       "    .dataframe tbody tr th {\n",
       "        vertical-align: top;\n",
       "    }\n",
       "\n",
       "    .dataframe thead th {\n",
       "        text-align: right;\n",
       "    }\n",
       "</style>\n",
       "<table border=\"1\" class=\"dataframe\">\n",
       "  <thead>\n",
       "    <tr style=\"text-align: right;\">\n",
       "      <th></th>\n",
       "      <th>Air temperature [K]</th>\n",
       "      <th>Process temperature [K]</th>\n",
       "      <th>Rotational speed [rpm]</th>\n",
       "      <th>Torque [Nm]</th>\n",
       "      <th>Tool wear [min]</th>\n",
       "      <th>Type_H</th>\n",
       "      <th>Type_L</th>\n",
       "      <th>Type_M</th>\n",
       "    </tr>\n",
       "  </thead>\n",
       "  <tbody>\n",
       "    <tr>\n",
       "      <th>643</th>\n",
       "      <td>297.8</td>\n",
       "      <td>309.4</td>\n",
       "      <td>1495</td>\n",
       "      <td>36.5</td>\n",
       "      <td>132</td>\n",
       "      <td>0</td>\n",
       "      <td>0</td>\n",
       "      <td>1</td>\n",
       "    </tr>\n",
       "    <tr>\n",
       "      <th>6976</th>\n",
       "      <td>300.6</td>\n",
       "      <td>310.9</td>\n",
       "      <td>1344</td>\n",
       "      <td>46.7</td>\n",
       "      <td>133</td>\n",
       "      <td>0</td>\n",
       "      <td>1</td>\n",
       "      <td>0</td>\n",
       "    </tr>\n",
       "    <tr>\n",
       "      <th>9009</th>\n",
       "      <td>297.3</td>\n",
       "      <td>307.9</td>\n",
       "      <td>1579</td>\n",
       "      <td>34.4</td>\n",
       "      <td>193</td>\n",
       "      <td>0</td>\n",
       "      <td>1</td>\n",
       "      <td>0</td>\n",
       "    </tr>\n",
       "    <tr>\n",
       "      <th>6229</th>\n",
       "      <td>301.3</td>\n",
       "      <td>310.9</td>\n",
       "      <td>1503</td>\n",
       "      <td>40.1</td>\n",
       "      <td>143</td>\n",
       "      <td>0</td>\n",
       "      <td>1</td>\n",
       "      <td>0</td>\n",
       "    </tr>\n",
       "    <tr>\n",
       "      <th>1213</th>\n",
       "      <td>296.8</td>\n",
       "      <td>307.8</td>\n",
       "      <td>1551</td>\n",
       "      <td>38.9</td>\n",
       "      <td>112</td>\n",
       "      <td>0</td>\n",
       "      <td>0</td>\n",
       "      <td>1</td>\n",
       "    </tr>\n",
       "    <tr>\n",
       "      <th>...</th>\n",
       "      <td>...</td>\n",
       "      <td>...</td>\n",
       "      <td>...</td>\n",
       "      <td>...</td>\n",
       "      <td>...</td>\n",
       "      <td>...</td>\n",
       "      <td>...</td>\n",
       "      <td>...</td>\n",
       "    </tr>\n",
       "    <tr>\n",
       "      <th>6216</th>\n",
       "      <td>301.1</td>\n",
       "      <td>310.8</td>\n",
       "      <td>1724</td>\n",
       "      <td>27.5</td>\n",
       "      <td>101</td>\n",
       "      <td>0</td>\n",
       "      <td>1</td>\n",
       "      <td>0</td>\n",
       "    </tr>\n",
       "    <tr>\n",
       "      <th>6482</th>\n",
       "      <td>300.6</td>\n",
       "      <td>309.9</td>\n",
       "      <td>1480</td>\n",
       "      <td>43.7</td>\n",
       "      <td>153</td>\n",
       "      <td>0</td>\n",
       "      <td>1</td>\n",
       "      <td>0</td>\n",
       "    </tr>\n",
       "    <tr>\n",
       "      <th>7874</th>\n",
       "      <td>300.7</td>\n",
       "      <td>312.3</td>\n",
       "      <td>1548</td>\n",
       "      <td>37.9</td>\n",
       "      <td>58</td>\n",
       "      <td>0</td>\n",
       "      <td>1</td>\n",
       "      <td>0</td>\n",
       "    </tr>\n",
       "    <tr>\n",
       "      <th>544</th>\n",
       "      <td>297.5</td>\n",
       "      <td>309.4</td>\n",
       "      <td>1831</td>\n",
       "      <td>26.6</td>\n",
       "      <td>105</td>\n",
       "      <td>0</td>\n",
       "      <td>0</td>\n",
       "      <td>1</td>\n",
       "    </tr>\n",
       "    <tr>\n",
       "      <th>1937</th>\n",
       "      <td>298.2</td>\n",
       "      <td>308.0</td>\n",
       "      <td>1411</td>\n",
       "      <td>42.4</td>\n",
       "      <td>48</td>\n",
       "      <td>0</td>\n",
       "      <td>1</td>\n",
       "      <td>0</td>\n",
       "    </tr>\n",
       "  </tbody>\n",
       "</table>\n",
       "<p>7500 rows × 8 columns</p>\n",
       "</div>"
      ],
      "text/plain": [
       "      Air temperature [K]  Process temperature [K]  Rotational speed [rpm]  \\\n",
       "643                 297.8                    309.4                    1495   \n",
       "6976                300.6                    310.9                    1344   \n",
       "9009                297.3                    307.9                    1579   \n",
       "6229                301.3                    310.9                    1503   \n",
       "1213                296.8                    307.8                    1551   \n",
       "...                   ...                      ...                     ...   \n",
       "6216                301.1                    310.8                    1724   \n",
       "6482                300.6                    309.9                    1480   \n",
       "7874                300.7                    312.3                    1548   \n",
       "544                 297.5                    309.4                    1831   \n",
       "1937                298.2                    308.0                    1411   \n",
       "\n",
       "      Torque [Nm]  Tool wear [min]  Type_H  Type_L  Type_M  \n",
       "643          36.5              132       0       0       1  \n",
       "6976         46.7              133       0       1       0  \n",
       "9009         34.4              193       0       1       0  \n",
       "6229         40.1              143       0       1       0  \n",
       "1213         38.9              112       0       0       1  \n",
       "...           ...              ...     ...     ...     ...  \n",
       "6216         27.5              101       0       1       0  \n",
       "6482         43.7              153       0       1       0  \n",
       "7874         37.9               58       0       1       0  \n",
       "544          26.6              105       0       0       1  \n",
       "1937         42.4               48       0       1       0  \n",
       "\n",
       "[7500 rows x 8 columns]"
      ]
     },
     "execution_count": 26,
     "metadata": {},
     "output_type": "execute_result"
    }
   ],
   "source": [
    "x_train,x_test,y_train,y_test=train_test_split(x,y,random_state=24,stratify=y)\n",
    "x_train"
   ]
  },
  {
   "cell_type": "markdown",
   "id": "547dec0c",
   "metadata": {},
   "source": [
    "# Model Building"
   ]
  },
  {
   "cell_type": "markdown",
   "id": "1f1e2906",
   "metadata": {},
   "source": [
    "# Desicion Tree Classifier using entropy"
   ]
  },
  {
   "cell_type": "code",
   "execution_count": 27,
   "id": "f6731811",
   "metadata": {},
   "outputs": [
    {
     "name": "stdout",
     "output_type": "stream",
     "text": [
      "****************************************Testing Data Accuracy****************************************\n",
      "Confusion Matrix:-\n",
      " [[  25    3    0    0    0    0]\n",
      " [   5 2374    9    8    5   12]\n",
      " [   1   10    8    1    0    0]\n",
      " [   0   10    1   13    0    0]\n",
      " [   0    4    0    0    0    0]\n",
      " [   0   11    0    0    0    0]]\n",
      "Accuracy Score:- 0.968\n",
      "Classification Report:-\n",
      "               precision    recall  f1-score   support\n",
      "\n",
      "           0       0.81      0.89      0.85        28\n",
      "           1       0.98      0.98      0.98      2413\n",
      "           2       0.44      0.40      0.42        20\n",
      "           3       0.59      0.54      0.57        24\n",
      "           4       0.00      0.00      0.00         4\n",
      "           5       0.00      0.00      0.00        11\n",
      "\n",
      "    accuracy                           0.97      2500\n",
      "   macro avg       0.47      0.47      0.47      2500\n",
      "weighted avg       0.97      0.97      0.97      2500\n",
      "\n",
      "****************************************Training Data Accuracy****************************************\n",
      "Confusion Matrix:-\n",
      " [[  84    0    0    0    0    0]\n",
      " [   0 7239    0    0    0    0]\n",
      " [   0    0   58    0    0    0]\n",
      " [   0    0    0   71    0    0]\n",
      " [   0    0    0    0   14    0]\n",
      " [   0    0    0    0    0   34]]\n",
      "Accuracy Score:- 1.0\n",
      "Classification Report:-\n",
      "               precision    recall  f1-score   support\n",
      "\n",
      "           0       1.00      1.00      1.00        84\n",
      "           1       1.00      1.00      1.00      7239\n",
      "           2       1.00      1.00      1.00        58\n",
      "           3       1.00      1.00      1.00        71\n",
      "           4       1.00      1.00      1.00        14\n",
      "           5       1.00      1.00      1.00        34\n",
      "\n",
      "    accuracy                           1.00      7500\n",
      "   macro avg       1.00      1.00      1.00      7500\n",
      "weighted avg       1.00      1.00      1.00      7500\n",
      "\n"
     ]
    }
   ],
   "source": [
    "dtcen=DecisionTreeClassifier(criterion='entropy')\n",
    "dtcen_model=dtcen.fit(x_train,y_train)\n",
    "dtcen_model\n",
    "\n",
    "print('*'*40+'Testing Data Accuracy'+'*'*40)\n",
    "dtcen_y_pred_test=dtcen_model.predict(x_test)\n",
    "dtcen_cnf_mtx=confusion_matrix(y_test,dtcen_y_pred_test)\n",
    "print('Confusion Matrix:-\\n',dtcen_cnf_mtx)\n",
    "dtcen_acc_scc_test=accuracy_score(y_test,dtcen_y_pred_test)\n",
    "print('Accuracy Score:-',dtcen_acc_scc_test)\n",
    "dtcen_cls_rpt=classification_report(y_test,dtcen_y_pred_test)\n",
    "print('Classification Report:-\\n',dtcen_cls_rpt)\n",
    "\n",
    "print('*'*40+'Training Data Accuracy'+'*'*40)\n",
    "dtcen_y_pred_train=dtcen_model.predict(x_train)\n",
    "dtcen_cnf_mtx=confusion_matrix(y_train,dtcen_y_pred_train)\n",
    "print('Confusion Matrix:-\\n',dtcen_cnf_mtx)\n",
    "dtcen_acc_scc_train=accuracy_score(y_train,dtcen_y_pred_train)\n",
    "print('Accuracy Score:-',dtcen_acc_scc_train)\n",
    "dtcen_cls_rpt=classification_report(y_train,dtcen_y_pred_train)\n",
    "print('Classification Report:-\\n',dtcen_cls_rpt)"
   ]
  },
  {
   "cell_type": "markdown",
   "id": "9509d109",
   "metadata": {},
   "source": [
    "# Decission Tree Classifier with gini index"
   ]
  },
  {
   "cell_type": "code",
   "execution_count": 28,
   "id": "efe9020a",
   "metadata": {},
   "outputs": [
    {
     "name": "stdout",
     "output_type": "stream",
     "text": [
      "****************************************Testing Data Accuracy****************************************\n",
      "Confusion Matrix:-\n",
      " [[  25    2    1    0    0    0]\n",
      " [   6 2383    5    9    5    5]\n",
      " [   1    8   10    0    0    1]\n",
      " [   0    7    1   16    0    0]\n",
      " [   0    4    0    0    0    0]\n",
      " [   0   10    0    0    0    1]]\n",
      "Accuracy Score:- 0.974\n",
      "Classification Report:-\n",
      "               precision    recall  f1-score   support\n",
      "\n",
      "           0       0.78      0.89      0.83        28\n",
      "           1       0.99      0.99      0.99      2413\n",
      "           2       0.59      0.50      0.54        20\n",
      "           3       0.64      0.67      0.65        24\n",
      "           4       0.00      0.00      0.00         4\n",
      "           5       0.14      0.09      0.11        11\n",
      "\n",
      "    accuracy                           0.97      2500\n",
      "   macro avg       0.52      0.52      0.52      2500\n",
      "weighted avg       0.97      0.97      0.97      2500\n",
      "\n",
      "****************************************Training Data Accuracy****************************************\n",
      "Confusion Matrix:-\n",
      " [[  84    0    0    0    0    0]\n",
      " [   0 7239    0    0    0    0]\n",
      " [   0    0   58    0    0    0]\n",
      " [   0    0    0   71    0    0]\n",
      " [   0    0    0    0   14    0]\n",
      " [   0    0    0    0    0   34]]\n",
      "Accuracy Score:- 1.0\n",
      "Classification Report:-\n",
      "               precision    recall  f1-score   support\n",
      "\n",
      "           0       1.00      1.00      1.00        84\n",
      "           1       1.00      1.00      1.00      7239\n",
      "           2       1.00      1.00      1.00        58\n",
      "           3       1.00      1.00      1.00        71\n",
      "           4       1.00      1.00      1.00        14\n",
      "           5       1.00      1.00      1.00        34\n",
      "\n",
      "    accuracy                           1.00      7500\n",
      "   macro avg       1.00      1.00      1.00      7500\n",
      "weighted avg       1.00      1.00      1.00      7500\n",
      "\n"
     ]
    }
   ],
   "source": [
    "x_train,x_test,y_train,y_test=train_test_split(x,y,random_state=24,stratify=y)\n",
    "x_train\n",
    "\n",
    "dtcgn=DecisionTreeClassifier(criterion='gini')\n",
    "dtcgn_model=dtcgn.fit(x_train,y_train)\n",
    "dtcgn_model\n",
    "\n",
    "print('*'*40+'Testing Data Accuracy'+'*'*40)\n",
    "\n",
    "dtcgn_y_pred_test=dtcgn_model.predict(x_test)\n",
    "dtcgn_cnf_mtx=confusion_matrix(y_test,dtcgn_y_pred_test)\n",
    "print('Confusion Matrix:-\\n',dtcgn_cnf_mtx)\n",
    "dtcgn_acc_scc_test=accuracy_score(y_test,dtcgn_y_pred_test)\n",
    "print('Accuracy Score:-',dtcgn_acc_scc_test)\n",
    "dtcgn_cls_rpt=classification_report(y_test,dtcgn_y_pred_test)\n",
    "print('Classification Report:-\\n',dtcgn_cls_rpt)\n",
    "\n",
    "print('*'*40+'Training Data Accuracy'+'*'*40)\n",
    "\n",
    "dtcgn_y_pred_train=dtcgn_model.predict(x_train)\n",
    "dtcgn_cnf_mtx=confusion_matrix(y_train,dtcgn_y_pred_train)\n",
    "print('Confusion Matrix:-\\n',dtcgn_cnf_mtx)\n",
    "dtcgn_acc_scc_train=accuracy_score(y_train,dtcgn_y_pred_train)\n",
    "print('Accuracy Score:-',dtcgn_acc_scc_train)\n",
    "dtcgn_cls_rpt=classification_report(y_train,dtcgn_y_pred_train)\n",
    "print('Classification Report:-\\n',dtcgn_cls_rpt)"
   ]
  },
  {
   "cell_type": "markdown",
   "id": "8f9518c7",
   "metadata": {},
   "source": [
    "# Randon Forest Classifier"
   ]
  },
  {
   "cell_type": "code",
   "execution_count": 29,
   "id": "116d9210",
   "metadata": {},
   "outputs": [
    {
     "name": "stdout",
     "output_type": "stream",
     "text": [
      "****************************************Testing Data Accuracy****************************************\n",
      "Confusion Matrix:-\n",
      " [[  13   15    0    0    0    0]\n",
      " [   3 2410    0    0    0    0]\n",
      " [   0   12    8    0    0    0]\n",
      " [   0   18    0    6    0    0]\n",
      " [   0    4    0    0    0    0]\n",
      " [   0   11    0    0    0    0]]\n",
      "Accuracy Score:- 0.9748\n",
      "Classification Report:-\n",
      "               precision    recall  f1-score   support\n",
      "\n",
      "           0       0.81      0.46      0.59        28\n",
      "           1       0.98      1.00      0.99      2413\n",
      "           2       1.00      0.40      0.57        20\n",
      "           3       1.00      0.25      0.40        24\n",
      "           4       0.00      0.00      0.00         4\n",
      "           5       0.00      0.00      0.00        11\n",
      "\n",
      "    accuracy                           0.97      2500\n",
      "   macro avg       0.63      0.35      0.42      2500\n",
      "weighted avg       0.97      0.97      0.97      2500\n",
      "\n",
      "****************************************Training Data Accuracy****************************************\n",
      "Confusion Matrix:-\n",
      " [[  84    0    0    0    0    0]\n",
      " [   0 7239    0    0    0    0]\n",
      " [   0    0   58    0    0    0]\n",
      " [   0    1    0   70    0    0]\n",
      " [   0    0    0    0   14    0]\n",
      " [   0    0    0    0    0   34]]\n",
      "Accuracy Score:- 0.9998666666666667\n",
      "Classification Report:-\n",
      "               precision    recall  f1-score   support\n",
      "\n",
      "           0       1.00      1.00      1.00        84\n",
      "           1       1.00      1.00      1.00      7239\n",
      "           2       1.00      1.00      1.00        58\n",
      "           3       1.00      0.99      0.99        71\n",
      "           4       1.00      1.00      1.00        14\n",
      "           5       1.00      1.00      1.00        34\n",
      "\n",
      "    accuracy                           1.00      7500\n",
      "   macro avg       1.00      1.00      1.00      7500\n",
      "weighted avg       1.00      1.00      1.00      7500\n",
      "\n"
     ]
    }
   ],
   "source": [
    "x_train,x_test,y_train,y_test=train_test_split(x,y,random_state=24,stratify=y)\n",
    "x_train\n",
    "\n",
    "rfc=RandomForestClassifier(criterion='entropy')\n",
    "rfc_model=rfc.fit(x_train,y_train)\n",
    "rfc_model\n",
    "\n",
    "print('*'*40+'Testing Data Accuracy'+'*'*40)\n",
    "\n",
    "rfc_y_pred_test=rfc_model.predict(x_test)\n",
    "rfc_cnf_mtx=confusion_matrix(y_test,rfc_y_pred_test)\n",
    "print('Confusion Matrix:-\\n',rfc_cnf_mtx)\n",
    "rfc_acc_scc_test=accuracy_score(y_test,rfc_y_pred_test)\n",
    "print('Accuracy Score:-',rfc_acc_scc_test)\n",
    "rfc_cls_rpt=classification_report(y_test,rfc_y_pred_test)\n",
    "print('Classification Report:-\\n',rfc_cls_rpt)\n",
    "\n",
    "print('*'*40+'Training Data Accuracy'+'*'*40)\n",
    "\n",
    "rfc_y_pred_train=rfc_model.predict(x_train)\n",
    "rfc_cnf_mtx=confusion_matrix(y_train,rfc_y_pred_train)\n",
    "print('Confusion Matrix:-\\n',rfc_cnf_mtx)\n",
    "rfc_acc_scc_train=accuracy_score(y_train,rfc_y_pred_train)\n",
    "print('Accuracy Score:-',rfc_acc_scc_train)\n",
    "rfc_cls_rpt=classification_report(y_train,rfc_y_pred_train)\n",
    "print('Classification Report:-\\n',rfc_cls_rpt)"
   ]
  },
  {
   "cell_type": "markdown",
   "id": "0dce0cb4",
   "metadata": {},
   "source": [
    "# KNN Classifier"
   ]
  },
  {
   "cell_type": "code",
   "execution_count": 30,
   "id": "409f87c1",
   "metadata": {},
   "outputs": [
    {
     "name": "stdout",
     "output_type": "stream",
     "text": [
      "****************************************Testing Data Accuracy****************************************\n",
      "Confusion Matrix:-\n",
      " [[   1   27    0    0    0    0]\n",
      " [   7 2401    2    3    0    0]\n",
      " [   0   13    7    0    0    0]\n",
      " [   0   22    1    1    0    0]\n",
      " [   0    4    0    0    0    0]\n",
      " [   0   11    0    0    0    0]]\n",
      "Accuracy Score:- 0.964\n",
      "Classification Report:-\n",
      "               precision    recall  f1-score   support\n",
      "\n",
      "           0       0.12      0.04      0.06        28\n",
      "           1       0.97      1.00      0.98      2413\n",
      "           2       0.70      0.35      0.47        20\n",
      "           3       0.25      0.04      0.07        24\n",
      "           4       0.00      0.00      0.00         4\n",
      "           5       0.00      0.00      0.00        11\n",
      "\n",
      "    accuracy                           0.96      2500\n",
      "   macro avg       0.34      0.24      0.26      2500\n",
      "weighted avg       0.94      0.96      0.95      2500\n",
      "\n",
      "****************************************Training  Data Accuracy****************************************\n",
      "Confusion Matrix:-\n",
      " [[  22   60    2    0    0    0]\n",
      " [  10 7217    6    6    0    0]\n",
      " [   5   20   33    0    0    0]\n",
      " [   6   49    2   14    0    0]\n",
      " [   1   13    0    0    0    0]\n",
      " [   0   32    1    0    0    1]]\n",
      "Accuracy Score:- 0.9716\n",
      "Classification Report:-\n",
      "               precision    recall  f1-score   support\n",
      "\n",
      "           0       0.50      0.26      0.34        84\n",
      "           1       0.98      1.00      0.99      7239\n",
      "           2       0.75      0.57      0.65        58\n",
      "           3       0.70      0.20      0.31        71\n",
      "           4       0.00      0.00      0.00        14\n",
      "           5       1.00      0.03      0.06        34\n",
      "\n",
      "    accuracy                           0.97      7500\n",
      "   macro avg       0.65      0.34      0.39      7500\n",
      "weighted avg       0.97      0.97      0.96      7500\n",
      "\n"
     ]
    }
   ],
   "source": [
    "x_train,x_test,y_train,y_test=train_test_split(x,y,random_state=24,stratify=y)\n",
    "x_train\n",
    "\n",
    "knn=KNeighborsClassifier(n_neighbors=3)\n",
    "knn_model=knn.fit(x_train,y_train)\n",
    "knn_model\n",
    "print('*'*40+'Testing Data Accuracy'+'*'*40)\n",
    "knn_y_pred_test=knn_model.predict(x_test)\n",
    "knn_cnf_mtx=confusion_matrix(y_test,knn_y_pred_test)\n",
    "print('Confusion Matrix:-\\n',knn_cnf_mtx)\n",
    "knn_acc_scc_test=accuracy_score(y_test,knn_y_pred_test)\n",
    "print('Accuracy Score:-',knn_acc_scc_test)\n",
    "knn_cls_rpt=classification_report(y_test,knn_y_pred_test)\n",
    "print('Classification Report:-\\n',knn_cls_rpt)\n",
    "\n",
    "print('*'*40+'Training  Data Accuracy'+'*'*40)\n",
    "knn_y_pred_train=knn_model.predict(x_train)\n",
    "knn_cnf_mtx=confusion_matrix(y_train,knn_y_pred_train)\n",
    "print('Confusion Matrix:-\\n',knn_cnf_mtx)\n",
    "knn_acc_scc_train=accuracy_score(y_train,knn_y_pred_train)\n",
    "print('Accuracy Score:-',knn_acc_scc_train)\n",
    "knn_cls_rpt=classification_report(y_train,knn_y_pred_train)\n",
    "print('Classification Report:-\\n',knn_cls_rpt)"
   ]
  },
  {
   "cell_type": "markdown",
   "id": "502b7fb0",
   "metadata": {},
   "source": [
    "# Adaboost"
   ]
  },
  {
   "cell_type": "code",
   "execution_count": 31,
   "id": "a6f12fe1",
   "metadata": {},
   "outputs": [
    {
     "name": "stdout",
     "output_type": "stream",
     "text": [
      "****************************************Testing Data Accuracy****************************************\n",
      "Confusion Matrix:-\n",
      " [[   0   28    0    0    0    0]\n",
      " [   0 1753    0    0  660    0]\n",
      " [   0   20    0    0    0    0]\n",
      " [   0   24    0    0    0    0]\n",
      " [   0    4    0    0    0    0]\n",
      " [   0   11    0    0    0    0]]\n",
      "Accuracy Score:- 0.7012\n",
      "Classification Report:-\n",
      "               precision    recall  f1-score   support\n",
      "\n",
      "           0       0.00      0.00      0.00        28\n",
      "           1       0.95      0.73      0.82      2413\n",
      "           2       0.00      0.00      0.00        20\n",
      "           3       0.00      0.00      0.00        24\n",
      "           4       0.00      0.00      0.00         4\n",
      "           5       0.00      0.00      0.00        11\n",
      "\n",
      "    accuracy                           0.70      2500\n",
      "   macro avg       0.16      0.12      0.14      2500\n",
      "weighted avg       0.92      0.70      0.80      2500\n",
      "\n",
      "****************************************Training  Data Accuracy****************************************\n",
      "Confusion Matrix:-\n",
      " [[   0   84    0    0    0    0]\n",
      " [   0 5304    0    0 1935    0]\n",
      " [   0   58    0    0    0    0]\n",
      " [   0   71    0    0    0    0]\n",
      " [   0   10    0    0    4    0]\n",
      " [   0   34    0    0    0    0]]\n",
      "Accuracy Score:- 0.7077333333333333\n",
      "Classification Report:-\n",
      "               precision    recall  f1-score   support\n",
      "\n",
      "           0       0.00      0.00      0.00        84\n",
      "           1       0.95      0.73      0.83      7239\n",
      "           2       0.00      0.00      0.00        58\n",
      "           3       0.00      0.00      0.00        71\n",
      "           4       0.00      0.29      0.00        14\n",
      "           5       0.00      0.00      0.00        34\n",
      "\n",
      "    accuracy                           0.71      7500\n",
      "   macro avg       0.16      0.17      0.14      7500\n",
      "weighted avg       0.92      0.71      0.80      7500\n",
      "\n"
     ]
    }
   ],
   "source": [
    "x_train,x_test,y_train,y_test=train_test_split(x,y,random_state=24,stratify=y)\n",
    "x_train\n",
    "\n",
    "adb=AdaBoostClassifier()\n",
    "adb_model=adb.fit(x_train,y_train)\n",
    "adb_model\n",
    "print('*'*40+'Testing Data Accuracy'+'*'*40)\n",
    "adb_y_pred_test=adb_model.predict(x_test)\n",
    "adb_cnf_mtx=confusion_matrix(y_test,adb_y_pred_test)\n",
    "print('Confusion Matrix:-\\n',adb_cnf_mtx)\n",
    "adb_acc_scc_test=accuracy_score(y_test,adb_y_pred_test)\n",
    "print('Accuracy Score:-',adb_acc_scc_test)\n",
    "adb_cls_rpt=classification_report(y_test,adb_y_pred_test)\n",
    "print('Classification Report:-\\n',adb_cls_rpt)\n",
    "\n",
    "print('*'*40+'Training  Data Accuracy'+'*'*40)\n",
    "adb_y_pred_train=adb_model.predict(x_train)\n",
    "adb_cnf_mtx=confusion_matrix(y_train,adb_y_pred_train)\n",
    "print('Confusion Matrix:-\\n',adb_cnf_mtx)\n",
    "adb_acc_scc_train=accuracy_score(y_train,adb_y_pred_train)\n",
    "print('Accuracy Score:-',adb_acc_scc_train)\n",
    "adb_cls_rpt=classification_report(y_train,adb_y_pred_train)\n",
    "print('Classification Report:-\\n',adb_cls_rpt)"
   ]
  },
  {
   "cell_type": "markdown",
   "id": "f4c23b37",
   "metadata": {},
   "source": [
    "# Kmeans Clsutering"
   ]
  },
  {
   "cell_type": "code",
   "execution_count": 32,
   "id": "1facceac",
   "metadata": {},
   "outputs": [
    {
     "name": "stdout",
     "output_type": "stream",
     "text": [
      "****************************************Testing Data Accuracy****************************************\n",
      "Confusion Matrix:-\n",
      " [[   0   28    0    0    0    0]\n",
      " [ 850 1563    0    0    0    0]\n",
      " [   0   20    0    0    0    0]\n",
      " [   0   24    0    0    0    0]\n",
      " [   1    3    0    0    0    0]\n",
      " [   3    8    0    0    0    0]]\n",
      "Accuracy Score:- 0.6252\n",
      "Classification Report:-\n",
      "               precision    recall  f1-score   support\n",
      "\n",
      "           0       0.00      0.00      0.00        28\n",
      "           1       0.95      0.65      0.77      2413\n",
      "           2       0.00      0.00      0.00        20\n",
      "           3       0.00      0.00      0.00        24\n",
      "           4       0.00      0.00      0.00         4\n",
      "           5       0.00      0.00      0.00        11\n",
      "\n",
      "    accuracy                           0.63      2500\n",
      "   macro avg       0.16      0.11      0.13      2500\n",
      "weighted avg       0.92      0.63      0.74      2500\n",
      "\n",
      "****************************************Training  Data Accuracy****************************************\n",
      "Confusion Matrix:-\n",
      " [[   0   84    0    0    0    0]\n",
      " [2611 4628    0    0    0    0]\n",
      " [   0   58    0    0    0    0]\n",
      " [   0   71    0    0    0    0]\n",
      " [   5    9    0    0    0    0]\n",
      " [  11   23    0    0    0    0]]\n",
      "Accuracy Score:- 0.6170666666666667\n",
      "Classification Report:-\n",
      "               precision    recall  f1-score   support\n",
      "\n",
      "           0       0.00      0.00      0.00        84\n",
      "           1       0.95      0.64      0.76      7239\n",
      "           2       0.00      0.00      0.00        58\n",
      "           3       0.00      0.00      0.00        71\n",
      "           4       0.00      0.00      0.00        14\n",
      "           5       0.00      0.00      0.00        34\n",
      "\n",
      "    accuracy                           0.62      7500\n",
      "   macro avg       0.16      0.11      0.13      7500\n",
      "weighted avg       0.92      0.62      0.74      7500\n",
      "\n"
     ]
    }
   ],
   "source": [
    "x_train,x_test,y_train,y_test=train_test_split(x,y,random_state=24,stratify=y)\n",
    "x_train\n",
    "\n",
    "kmc=KMeans(n_clusters=2)\n",
    "kmc_model=kmc.fit(x_train,y_train)\n",
    "kmc_model\n",
    "print('*'*40+'Testing Data Accuracy'+'*'*40)\n",
    "kmc_y_pred_test=kmc_model.predict(x_test)\n",
    "kmc_cnf_mtx=confusion_matrix(y_test,kmc_y_pred_test)\n",
    "print('Confusion Matrix:-\\n',kmc_cnf_mtx)\n",
    "kmc_acc_scc_test=accuracy_score(y_test,kmc_y_pred_test)\n",
    "print('Accuracy Score:-',kmc_acc_scc_test)\n",
    "kmc_cls_rpt=classification_report(y_test,kmc_y_pred_test)\n",
    "print('Classification Report:-\\n',kmc_cls_rpt)\n",
    "\n",
    "print('*'*40+'Training  Data Accuracy'+'*'*40)\n",
    "kmc_y_pred_train=kmc_model.predict(x_train)\n",
    "kmc_cnf_mtx=confusion_matrix(y_train,kmc_y_pred_train)\n",
    "print('Confusion Matrix:-\\n',kmc_cnf_mtx)\n",
    "kmc_acc_scc_train=accuracy_score(y_train,kmc_y_pred_train)\n",
    "print('Accuracy Score:-',kmc_acc_scc_train)\n",
    "kmc_cls_rpt=classification_report(y_train,kmc_y_pred_train)\n",
    "print('Classification Report:-\\n',kmc_cls_rpt)"
   ]
  },
  {
   "cell_type": "markdown",
   "id": "b1da88e1",
   "metadata": {},
   "source": [
    "# Naive Bayse Classifier"
   ]
  },
  {
   "cell_type": "markdown",
   "id": "32ee9983",
   "metadata": {},
   "source": [
    "# 1.GaussianNB"
   ]
  },
  {
   "cell_type": "code",
   "execution_count": 33,
   "id": "0b8f4959",
   "metadata": {},
   "outputs": [
    {
     "name": "stdout",
     "output_type": "stream",
     "text": [
      "****************************************Testing Data Accuracy****************************************\n",
      "Confusion Matrix:-\n",
      " [[  21    7    0    0    0    0]\n",
      " [  31 2345   37    0    0    0]\n",
      " [   0    2   18    0    0    0]\n",
      " [   0   22    2    0    0    0]\n",
      " [   1    3    0    0    0    0]\n",
      " [   0   10    1    0    0    0]]\n",
      "Accuracy Score:- 0.9536\n",
      "Classification Report:-\n",
      "               precision    recall  f1-score   support\n",
      "\n",
      "           0       0.40      0.75      0.52        28\n",
      "           1       0.98      0.97      0.98      2413\n",
      "           2       0.31      0.90      0.46        20\n",
      "           3       0.00      0.00      0.00        24\n",
      "           4       0.00      0.00      0.00         4\n",
      "           5       0.00      0.00      0.00        11\n",
      "\n",
      "    accuracy                           0.95      2500\n",
      "   macro avg       0.28      0.44      0.33      2500\n",
      "weighted avg       0.95      0.95      0.95      2500\n",
      "\n",
      "****************************************Training  Data Accuracy****************************************\n",
      "Confusion Matrix:-\n",
      " [[  57   20    7    0    0    0]\n",
      " [ 113 7024  102    0    0    0]\n",
      " [   1    6   51    0    0    0]\n",
      " [   2   67    2    0    0    0]\n",
      " [   1   13    0    0    0    0]\n",
      " [   0   32    2    0    0    0]]\n",
      "Accuracy Score:- 0.9509333333333333\n",
      "Classification Report:-\n",
      "               precision    recall  f1-score   support\n",
      "\n",
      "           0       0.33      0.68      0.44        84\n",
      "           1       0.98      0.97      0.98      7239\n",
      "           2       0.31      0.88      0.46        58\n",
      "           3       0.00      0.00      0.00        71\n",
      "           4       0.00      0.00      0.00        14\n",
      "           5       0.00      0.00      0.00        34\n",
      "\n",
      "    accuracy                           0.95      7500\n",
      "   macro avg       0.27      0.42      0.31      7500\n",
      "weighted avg       0.95      0.95      0.95      7500\n",
      "\n"
     ]
    }
   ],
   "source": [
    "x_train,x_test,y_train,y_test=train_test_split(x,y,random_state=24,stratify=y)\n",
    "x_train\n",
    "\n",
    "gnb=GaussianNB()\n",
    "gnb_model=gnb.fit(x_train,y_train)\n",
    "gnb_model\n",
    "print('*'*40+'Testing Data Accuracy'+'*'*40)\n",
    "gnb_y_pred_test=gnb_model.predict(x_test)\n",
    "gnb_cnf_mtx=confusion_matrix(y_test,gnb_y_pred_test)\n",
    "print('Confusion Matrix:-\\n',gnb_cnf_mtx)\n",
    "gnb_acc_scc_test=accuracy_score(y_test,gnb_y_pred_test)\n",
    "print('Accuracy Score:-',gnb_acc_scc_test)\n",
    "gnb_cls_rpt=classification_report(y_test,gnb_y_pred_test)\n",
    "print('Classification Report:-\\n',gnb_cls_rpt)\n",
    "\n",
    "print('*'*40+'Training  Data Accuracy'+'*'*40)\n",
    "gnb_y_pred_train=gnb_model.predict(x_train)\n",
    "gnb_cnf_mtx=confusion_matrix(y_train,gnb_y_pred_train)\n",
    "print('Confusion Matrix:-\\n',gnb_cnf_mtx)\n",
    "gnb_acc_scc_train=accuracy_score(y_train,gnb_y_pred_train)\n",
    "print('Accuracy Score:-',gnb_acc_scc_train)\n",
    "gnb_cls_rpt=classification_report(y_train,gnb_y_pred_train)\n",
    "print('Classification Report:-\\n',gnb_cls_rpt)"
   ]
  },
  {
   "cell_type": "markdown",
   "id": "3b4fd2da",
   "metadata": {},
   "source": [
    "# 2.MultinomialNB"
   ]
  },
  {
   "cell_type": "code",
   "execution_count": 34,
   "id": "059cae1c",
   "metadata": {},
   "outputs": [
    {
     "name": "stdout",
     "output_type": "stream",
     "text": [
      "****************************************Testing Data Accuracy****************************************\n",
      "Confusion Matrix:-\n",
      " [[   6    4    5   13    0    0]\n",
      " [  94 1576  114  151   95  383]\n",
      " [   0    0   19    0    0    0]\n",
      " [   5    7    5    5    0    2]\n",
      " [   0    2    0    1    0    2]\n",
      " [   0    0    2    0    0    9]]\n",
      "Accuracy Score:- 0.646\n",
      "Classification Report:-\n",
      "               precision    recall  f1-score   support\n",
      "\n",
      "           0       0.06      0.21      0.09        28\n",
      "           1       0.99      0.65      0.79      2413\n",
      "           2       0.13      1.00      0.23        19\n",
      "           3       0.03      0.21      0.05        24\n",
      "           4       0.00      0.00      0.00         5\n",
      "           5       0.02      0.82      0.04        11\n",
      "\n",
      "    accuracy                           0.65      2500\n",
      "   macro avg       0.21      0.48      0.20      2500\n",
      "weighted avg       0.96      0.65      0.76      2500\n",
      "\n",
      "****************************************Training  Data Accuracy****************************************\n",
      "Confusion Matrix:-\n",
      " [[  22    5   27   30    0    0]\n",
      " [ 319 4524  419  470  316 1191]\n",
      " [   0    0   56    0    0    3]\n",
      " [  10   28   10   18    0    5]\n",
      " [   0    7    2    1    1    2]\n",
      " [   0    0    9    0    0   25]]\n",
      "Accuracy Score:- 0.6194666666666667\n",
      "Classification Report:-\n",
      "               precision    recall  f1-score   support\n",
      "\n",
      "           0       0.06      0.26      0.10        84\n",
      "           1       0.99      0.62      0.77      7239\n",
      "           2       0.11      0.95      0.19        59\n",
      "           3       0.03      0.25      0.06        71\n",
      "           4       0.00      0.08      0.01        13\n",
      "           5       0.02      0.74      0.04        34\n",
      "\n",
      "    accuracy                           0.62      7500\n",
      "   macro avg       0.20      0.48      0.19      7500\n",
      "weighted avg       0.96      0.62      0.74      7500\n",
      "\n"
     ]
    }
   ],
   "source": [
    "\n",
    "x_train,x_test,y_train,y_test=train_test_split(x,y,random_state=34,stratify=y)\n",
    "x_train\n",
    "\n",
    "mnb=MultinomialNB()\n",
    "mnb_model=mnb.fit(x_train,y_train)\n",
    "mnb_model\n",
    "print('*'*40+'Testing Data Accuracy'+'*'*40)\n",
    "mnb_y_pred_test=mnb_model.predict(x_test)\n",
    "mnb_cnf_mtx=confusion_matrix(y_test,mnb_y_pred_test)\n",
    "print('Confusion Matrix:-\\n',mnb_cnf_mtx)\n",
    "mnb_acc_scc_test=accuracy_score(y_test,mnb_y_pred_test)\n",
    "print('Accuracy Score:-',mnb_acc_scc_test)\n",
    "mnb_cls_rpt=classification_report(y_test,mnb_y_pred_test)\n",
    "print('Classification Report:-\\n',mnb_cls_rpt)\n",
    "# # print(i,mnb_acc_scc_test)\n",
    "# l1.append(mnb_acc_scc_test)\n",
    "\n",
    "print('*'*40+'Training  Data Accuracy'+'*'*40)\n",
    "mnb_y_pred_train=mnb_model.predict(x_train)\n",
    "mnb_cnf_mtx=confusion_matrix(y_train,mnb_y_pred_train)\n",
    "print('Confusion Matrix:-\\n',mnb_cnf_mtx)\n",
    "mnb_acc_scc_train=accuracy_score(y_train,mnb_y_pred_train)\n",
    "print('Accuracy Score:-',mnb_acc_scc_train)\n",
    "mnb_cls_rpt=classification_report(y_train,mnb_y_pred_train)\n",
    "print('Classification Report:-\\n',mnb_cls_rpt)"
   ]
  },
  {
   "cell_type": "markdown",
   "id": "2c608b8b",
   "metadata": {},
   "source": [
    "# 3.BernoulliNB"
   ]
  },
  {
   "cell_type": "code",
   "execution_count": 35,
   "id": "205c1e02",
   "metadata": {},
   "outputs": [
    {
     "name": "stdout",
     "output_type": "stream",
     "text": [
      "****************************************Testing Data Accuracy****************************************\n",
      "Confusion Matrix:-\n",
      " [[   0   28    0    0    0    0]\n",
      " [   0 2413    0    0    0    0]\n",
      " [   0   20    0    0    0    0]\n",
      " [   0   24    0    0    0    0]\n",
      " [   0    4    0    0    0    0]\n",
      " [   0   11    0    0    0    0]]\n",
      "Accuracy Score:- 0.9652\n",
      "Classification Report:-\n",
      "               precision    recall  f1-score   support\n",
      "\n",
      "           0       0.00      0.00      0.00        28\n",
      "           1       0.97      1.00      0.98      2413\n",
      "           2       0.00      0.00      0.00        20\n",
      "           3       0.00      0.00      0.00        24\n",
      "           4       0.00      0.00      0.00         4\n",
      "           5       0.00      0.00      0.00        11\n",
      "\n",
      "    accuracy                           0.97      2500\n",
      "   macro avg       0.16      0.17      0.16      2500\n",
      "weighted avg       0.93      0.97      0.95      2500\n",
      "\n",
      "****************************************Training  Data Accuracy****************************************\n",
      "Confusion Matrix:-\n",
      " [[   0   84    0    0    0    0]\n",
      " [   0 7239    0    0    0    0]\n",
      " [   0   58    0    0    0    0]\n",
      " [   0   71    0    0    0    0]\n",
      " [   0   14    0    0    0    0]\n",
      " [   0   34    0    0    0    0]]\n",
      "Accuracy Score:- 0.9652\n",
      "Classification Report:-\n",
      "               precision    recall  f1-score   support\n",
      "\n",
      "           0       0.00      0.00      0.00        84\n",
      "           1       0.97      1.00      0.98      7239\n",
      "           2       0.00      0.00      0.00        58\n",
      "           3       0.00      0.00      0.00        71\n",
      "           4       0.00      0.00      0.00        14\n",
      "           5       0.00      0.00      0.00        34\n",
      "\n",
      "    accuracy                           0.97      7500\n",
      "   macro avg       0.16      0.17      0.16      7500\n",
      "weighted avg       0.93      0.97      0.95      7500\n",
      "\n"
     ]
    }
   ],
   "source": [
    "x_train,x_test,y_train,y_test=train_test_split(x,y,random_state=24,stratify=y)\n",
    "x_train\n",
    "\n",
    "bnb=BernoulliNB()\n",
    "bnb_model=bnb.fit(x_train,y_train)\n",
    "bnb_model\n",
    "print('*'*40+'Testing Data Accuracy'+'*'*40)\n",
    "bnb_y_pred_test=bnb_model.predict(x_test)\n",
    "bnb_cnf_mtx=confusion_matrix(y_test,bnb_y_pred_test)\n",
    "print('Confusion Matrix:-\\n',bnb_cnf_mtx)\n",
    "bnb_acc_scc_test=accuracy_score(y_test,bnb_y_pred_test)\n",
    "print('Accuracy Score:-',bnb_acc_scc_test)\n",
    "bnb_cls_rpt=classification_report(y_test,bnb_y_pred_test)\n",
    "print('Classification Report:-\\n',bnb_cls_rpt)\n",
    "\n",
    "print('*'*40+'Training  Data Accuracy'+'*'*40)\n",
    "bnb_y_pred_train=bnb_model.predict(x_train)\n",
    "bnb_cnf_mtx=confusion_matrix(y_train,bnb_y_pred_train)\n",
    "print('Confusion Matrix:-\\n',bnb_cnf_mtx)\n",
    "bnb_acc_scc_train=accuracy_score(y_train,bnb_y_pred_train)\n",
    "print('Accuracy Score:-',bnb_acc_scc_train)\n",
    "bnb_cls_rpt=classification_report(y_train,bnb_y_pred_train)\n",
    "print('Classification Report:-\\n',bnb_cls_rpt)"
   ]
  },
  {
   "cell_type": "markdown",
   "id": "f0980cf6",
   "metadata": {},
   "source": [
    "# Summery of Accuracy"
   ]
  },
  {
   "cell_type": "code",
   "execution_count": 36,
   "id": "7862226d",
   "metadata": {},
   "outputs": [
    {
     "data": {
      "text/html": [
       "<div>\n",
       "<style scoped>\n",
       "    .dataframe tbody tr th:only-of-type {\n",
       "        vertical-align: middle;\n",
       "    }\n",
       "\n",
       "    .dataframe tbody tr th {\n",
       "        vertical-align: top;\n",
       "    }\n",
       "\n",
       "    .dataframe thead th {\n",
       "        text-align: right;\n",
       "    }\n",
       "</style>\n",
       "<table border=\"1\" class=\"dataframe\">\n",
       "  <thead>\n",
       "    <tr style=\"text-align: right;\">\n",
       "      <th></th>\n",
       "      <th>Training Accuray</th>\n",
       "      <th>Testing Accuracy</th>\n",
       "    </tr>\n",
       "  </thead>\n",
       "  <tbody>\n",
       "    <tr>\n",
       "      <th>Decision Tree Entropy</th>\n",
       "      <td>1.000000</td>\n",
       "      <td>0.9680</td>\n",
       "    </tr>\n",
       "    <tr>\n",
       "      <th>Decision Tree Gini</th>\n",
       "      <td>1.000000</td>\n",
       "      <td>0.9740</td>\n",
       "    </tr>\n",
       "    <tr>\n",
       "      <th>Random Forest</th>\n",
       "      <td>0.999867</td>\n",
       "      <td>0.9748</td>\n",
       "    </tr>\n",
       "    <tr>\n",
       "      <th>KNN</th>\n",
       "      <td>0.971600</td>\n",
       "      <td>0.9640</td>\n",
       "    </tr>\n",
       "    <tr>\n",
       "      <th>KMeans Cluster</th>\n",
       "      <td>0.617067</td>\n",
       "      <td>0.6252</td>\n",
       "    </tr>\n",
       "    <tr>\n",
       "      <th>Adaboost</th>\n",
       "      <td>0.707733</td>\n",
       "      <td>0.7012</td>\n",
       "    </tr>\n",
       "    <tr>\n",
       "      <th>GausianNB</th>\n",
       "      <td>0.950933</td>\n",
       "      <td>0.9536</td>\n",
       "    </tr>\n",
       "    <tr>\n",
       "      <th>MultinomialNB</th>\n",
       "      <td>0.619467</td>\n",
       "      <td>0.6460</td>\n",
       "    </tr>\n",
       "    <tr>\n",
       "      <th>BernoulliNB</th>\n",
       "      <td>0.965200</td>\n",
       "      <td>0.9652</td>\n",
       "    </tr>\n",
       "  </tbody>\n",
       "</table>\n",
       "</div>"
      ],
      "text/plain": [
       "                       Training Accuray  Testing Accuracy\n",
       "Decision Tree Entropy          1.000000            0.9680\n",
       "Decision Tree Gini             1.000000            0.9740\n",
       "Random Forest                  0.999867            0.9748\n",
       "KNN                            0.971600            0.9640\n",
       "KMeans Cluster                 0.617067            0.6252\n",
       "Adaboost                       0.707733            0.7012\n",
       "GausianNB                      0.950933            0.9536\n",
       "MultinomialNB                  0.619467            0.6460\n",
       "BernoulliNB                    0.965200            0.9652"
      ]
     },
     "execution_count": 36,
     "metadata": {},
     "output_type": "execute_result"
    }
   ],
   "source": [
    "# dtc_acc_scc_test   dtc_acc_scc_train\n",
    "tr_acc_list=[dtcen_acc_scc_train,dtcgn_acc_scc_train,rfc_acc_scc_train,knn_acc_scc_train,\n",
    "             kmc_acc_scc_train,adb_acc_scc_train,gnb_acc_scc_train,mnb_acc_scc_train,bnb_acc_scc_train]\n",
    "ts_acc_list=[dtcen_acc_scc_test,dtcgn_acc_scc_test,rfc_acc_scc_test,knn_acc_scc_test,\n",
    "             kmc_acc_scc_test,adb_acc_scc_test,gnb_acc_scc_test,mnb_acc_scc_test,bnb_acc_scc_test]\n",
    "# acc_data=np.array([tr_acc_list,ts_acc_list])\n",
    "ind=['Decision Tree Entropy','Decision Tree Gini','Random Forest','KNN','KMeans Cluster','Adaboost','GausianNB',\n",
    "      'MultinomialNB','BernoulliNB']\n",
    "col=['Training Accuray','Testing Accuracy']\n",
    "# tr_acc=pd.DataFrame(acc_data,columns=['Training Accuray'],index=ind)\n",
    "acc_sum=pd.DataFrame({'Training Accuray':tr_acc_list,'Testing Accuracy':ts_acc_list},index=ind)\n",
    "acc_sum"
   ]
  },
  {
   "cell_type": "code",
   "execution_count": 37,
   "id": "333b637f",
   "metadata": {},
   "outputs": [
    {
     "data": {
      "text/plain": [
       "<AxesSubplot:>"
      ]
     },
     "execution_count": 37,
     "metadata": {},
     "output_type": "execute_result"
    },
    {
     "data": {
      "text/plain": [
       "<Figure size 2880x2880 with 0 Axes>"
      ]
     },
     "metadata": {},
     "output_type": "display_data"
    },
    {
     "data": {
      "image/png": "[encoded data removed]",
      "text/plain": [
       "<Figure size 432x288 with 1 Axes>"
      ]
     },
     "metadata": {
      "needs_background": "light"
     },
     "output_type": "display_data"
    }
   ],
   "source": [
    "amc=acc_sum.sort_values(by='Testing Accuracy',ascending=False)\n",
    "plt.figure(figsize=(40,40))\n",
    "amc.plot.bar()"
   ]
  },
  {
   "cell_type": "code",
   "execution_count": 38,
   "id": "c4e61f45",
   "metadata": {},
   "outputs": [
    {
     "data": {
      "text/plain": [
       "<AxesSubplot:>"
      ]
     },
     "execution_count": 38,
     "metadata": {},
     "output_type": "execute_result"
    },
    {
     "data": {
      "image/png": "[encoded data removed]",
      "text/plain": [
       "<Figure size 432x288 with 1 Axes>"
      ]
     },
     "metadata": {
      "needs_background": "light"
     },
     "output_type": "display_data"
    }
   ],
   "source": [
    "h=rfc.feature_importances_\n",
    "s1=pd.Series(rfc.feature_importances_,index=x.columns)\n",
    "\n",
    "s1.sort_values().plot(kind='barh')"
   ]
  },
  {
   "cell_type": "code",
   "execution_count": 39,
   "id": "14b1bdfa",
   "metadata": {},
   "outputs": [],
   "source": [
    "# bnb=BernoulliNB()\n",
    "# bnb_model=bnb.fit(x_train,y_train)\n",
    "# bnb_model"
   ]
  },
  {
   "cell_type": "code",
   "execution_count": 40,
   "id": "3b123700",
   "metadata": {},
   "outputs": [],
   "source": [
    "x_train,x_test,y_train,y_test=train_test_split(x,y,random_state=24,stratify=y)\n",
    "x_train\n",
    "\n",
    "def Evaluation(model,model_name):\n",
    "#     print('*'*110)\n",
    "#     print('*'*44+f'{model_name} Evaluation'+'*'*44)\n",
    "#     print('*'*110)\n",
    "#     print('*'*40+f'{model_name} Test Data Accuracy'+'*'*40)\n",
    "    y_pred_test=model.predict(x_test)\n",
    "    cnf_mtx=confusion_matrix(y_test,y_pred_test)\n",
    "#     print(f'{model_name} Confusion Matrix:-\\n',cnf_mtx)\n",
    "    acc_scc_test=accuracy_score(y_test,y_pred_test)\n",
    "#     print(f'{model_name} Accuracy Score:-',acc_scc_test)\n",
    "    cls_rpt=classification_report(y_test,y_pred_test)\n",
    "#     print(f'{model_name} Classification Report:-\\n',cls_rpt)\n",
    "\n",
    "#     print('*'*40+f'{model_name} Training  Data Accuracy'+'*'*40)\n",
    "    y_pred_train=model.predict(x_train)\n",
    "    cnf_mtx=confusion_matrix(y_train,y_pred_train)\n",
    "#     print(f'{model_name} Confusion Matrix:-\\n',cnf_mtx)\n",
    "    acc_scc_train=accuracy_score(y_train,y_pred_train)\n",
    "#     print(f'{model_name} Accuracy Score:-',acc_scc_train)\n",
    "    cls_rpt=classification_report(y_train,y_pred_train)\n",
    "#     print(f' {model_name} Classification Report:-\\n',cls_rpt)\n",
    "    return tr_acc.append(acc_scc_train),ts_acc.append(acc_scc_test),ind.append(model_name)"
   ]
  },
  {
   "cell_type": "code",
   "execution_count": 41,
   "id": "61947118",
   "metadata": {},
   "outputs": [],
   "source": [
    "def models():\n",
    "    bnb=BernoulliNB()\n",
    "    bnb_model=bnb.fit(x_train,y_train)\n",
    "    tr_acc,ts_acc,ind=Evaluation(bnb_model,'BernoulliNB')\n",
    "    \n",
    "    knn=KNeighborsClassifier(n_neighbors=10) #KNeighborsClassifier\n",
    "    knn_model=knn.fit(x_train,y_train)\n",
    "    tr_acc,ts_acc,ind=Evaluation(knn_model,'KNeighborClassifier')\n",
    "    \n",
    "    rfc=RandomForestClassifier(criterion='entropy')\n",
    "    rfc_model=rfc.fit(x_train,y_train)\n",
    "    tr_acc,ts_acc,ind=Evaluation(knn_model,'Random Forest Classifier')\n",
    "    \n",
    "    return"
   ]
  },
  {
   "cell_type": "code",
   "execution_count": 42,
   "id": "23dad126",
   "metadata": {},
   "outputs": [
    {
     "data": {
      "text/html": [
       "<div>\n",
       "<style scoped>\n",
       "    .dataframe tbody tr th:only-of-type {\n",
       "        vertical-align: middle;\n",
       "    }\n",
       "\n",
       "    .dataframe tbody tr th {\n",
       "        vertical-align: top;\n",
       "    }\n",
       "\n",
       "    .dataframe thead th {\n",
       "        text-align: right;\n",
       "    }\n",
       "</style>\n",
       "<table border=\"1\" class=\"dataframe\">\n",
       "  <thead>\n",
       "    <tr style=\"text-align: right;\">\n",
       "      <th></th>\n",
       "      <th>Training Accuray</th>\n",
       "      <th>Testing Accuracy</th>\n",
       "    </tr>\n",
       "  </thead>\n",
       "  <tbody>\n",
       "    <tr>\n",
       "      <th>BernoulliNB</th>\n",
       "      <td>0.965200</td>\n",
       "      <td>0.9652</td>\n",
       "    </tr>\n",
       "    <tr>\n",
       "      <th>KNeighborClassifier</th>\n",
       "      <td>0.967333</td>\n",
       "      <td>0.9660</td>\n",
       "    </tr>\n",
       "    <tr>\n",
       "      <th>Random Forest Classifier</th>\n",
       "      <td>0.967333</td>\n",
       "      <td>0.9660</td>\n",
       "    </tr>\n",
       "  </tbody>\n",
       "</table>\n",
       "</div>"
      ],
      "text/plain": [
       "                          Training Accuray  Testing Accuracy\n",
       "BernoulliNB                       0.965200            0.9652\n",
       "KNeighborClassifier               0.967333            0.9660\n",
       "Random Forest Classifier          0.967333            0.9660"
      ]
     },
     "execution_count": 42,
     "metadata": {},
     "output_type": "execute_result"
    }
   ],
   "source": [
    "tr_acc=[]\n",
    "ts_acc=[]\n",
    "ind=[]\n",
    "models()\n",
    "summ=pd.DataFrame({'Training Accuray':tr_acc,'Testing Accuracy':ts_acc},index=ind)\n",
    "summ\n"
   ]
  },
  {
   "cell_type": "code",
   "execution_count": 43,
   "id": "4c598e1f",
   "metadata": {},
   "outputs": [],
   "source": [
    "def models():\n",
    "    bnb=BernoulliNB()\n",
    "    bnb_model=bnb.fit(x_train,y_train)\n",
    "    l1=Evaluation(bnb_model,'BernoulliNB')\n",
    "    \n",
    "    knn=KNeighborsClassifier(n_neighbors=4) #KNeighborsClassifier\n",
    "    knn_model=knn.fit(x_train,y_train)\n",
    "    l1=Evaluation(knn_model,'KNeighborClassifier')"
   ]
  },
  {
   "cell_type": "code",
   "execution_count": 48,
   "id": "c4191894",
   "metadata": {},
   "outputs": [
    {
     "data": {
      "text/html": [
       "<div>\n",
       "<style scoped>\n",
       "    .dataframe tbody tr th:only-of-type {\n",
       "        vertical-align: middle;\n",
       "    }\n",
       "\n",
       "    .dataframe tbody tr th {\n",
       "        vertical-align: top;\n",
       "    }\n",
       "\n",
       "    .dataframe thead th {\n",
       "        text-align: right;\n",
       "    }\n",
       "</style>\n",
       "<table border=\"1\" class=\"dataframe\">\n",
       "  <thead>\n",
       "    <tr style=\"text-align: right;\">\n",
       "      <th></th>\n",
       "      <th>Training Accuray</th>\n",
       "      <th>Testing Accuracy</th>\n",
       "    </tr>\n",
       "  </thead>\n",
       "  <tbody>\n",
       "    <tr>\n",
       "      <th>BernoulliNB</th>\n",
       "      <td>0.9652</td>\n",
       "      <td>0.9652</td>\n",
       "    </tr>\n",
       "    <tr>\n",
       "      <th>KNeighborClassifier</th>\n",
       "      <td>0.9688</td>\n",
       "      <td>0.9620</td>\n",
       "    </tr>\n",
       "  </tbody>\n",
       "</table>\n",
       "</div>"
      ],
      "text/plain": [
       "                     Training Accuray  Testing Accuracy\n",
       "BernoulliNB                    0.9652            0.9652\n",
       "KNeighborClassifier            0.9688            0.9620"
      ]
     },
     "execution_count": 48,
     "metadata": {},
     "output_type": "execute_result"
    }
   ],
   "source": [
    "tr_acc=[]\n",
    "ts_acc=[]\n",
    "ind=[]\n",
    "models()\n",
    "summ=pd.DataFrame({'Training Accuray':tr_acc,'Testing Accuracy':ts_acc},index=ind)\n",
    "summ\n"
   ]
  },
  {
   "cell_type": "code",
   "execution_count": 54,
   "id": "304b0e54",
   "metadata": {},
   "outputs": [],
   "source": [
    "pickle.dump(rfc_model,open('ref_model.pkl','wb'))\n"
   ]
  },
  {
   "cell_type": "code",
   "execution_count": 60,
   "id": "4d7fccc5",
   "metadata": {},
   "outputs": [
    {
     "data": {
      "text/html": [
       "<style>#sk-container-id-3 {color: black;background-color: white;}#sk-container-id-3 pre{padding: 0;}#sk-container-id-3 div.sk-toggleable {background-color: white;}#sk-container-id-3 label.sk-toggleable__label {cursor: pointer;display: block;width: 100%;margin-bottom: 0;padding: 0.3em;box-sizing: border-box;text-align: center;}#sk-container-id-3 label.sk-toggleable__label-arrow:before {content: \"▸\";float: left;margin-right: 0.25em;color: #696969;}#sk-container-id-3 label.sk-toggleable__label-arrow:hover:before {color: black;}#sk-container-id-3 div.sk-estimator:hover label.sk-toggleable__label-arrow:before {color: black;}#sk-container-id-3 div.sk-toggleable__content {max-height: 0;max-width: 0;overflow: hidden;text-align: left;background-color: #f0f8ff;}#sk-container-id-3 div.sk-toggleable__content pre {margin: 0.2em;color: black;border-radius: 0.25em;background-color: #f0f8ff;}#sk-container-id-3 input.sk-toggleable__control:checked~div.sk-toggleable__content {max-height: 200px;max-width: 100%;overflow: auto;}#sk-container-id-3 input.sk-toggleable__control:checked~label.sk-toggleable__label-arrow:before {content: \"▾\";}#sk-container-id-3 div.sk-estimator input.sk-toggleable__control:checked~label.sk-toggleable__label {background-color: #d4ebff;}#sk-container-id-3 div.sk-label input.sk-toggleable__control:checked~label.sk-toggleable__label {background-color: #d4ebff;}#sk-container-id-3 input.sk-hidden--visually {border: 0;clip: rect(1px 1px 1px 1px);clip: rect(1px, 1px, 1px, 1px);height: 1px;margin: -1px;overflow: hidden;padding: 0;position: absolute;width: 1px;}#sk-container-id-3 div.sk-estimator {font-family: monospace;background-color: #f0f8ff;border: 1px dotted black;border-radius: 0.25em;box-sizing: border-box;margin-bottom: 0.5em;}#sk-container-id-3 div.sk-estimator:hover {background-color: #d4ebff;}#sk-container-id-3 div.sk-parallel-item::after {content: \"\";width: 100%;border-bottom: 1px solid gray;flex-grow: 1;}#sk-container-id-3 div.sk-label:hover label.sk-toggleable__label {background-color: #d4ebff;}#sk-container-id-3 div.sk-serial::before {content: \"\";position: absolute;border-left: 1px solid gray;box-sizing: border-box;top: 0;bottom: 0;left: 50%;z-index: 0;}#sk-container-id-3 div.sk-serial {display: flex;flex-direction: column;align-items: center;background-color: white;padding-right: 0.2em;padding-left: 0.2em;position: relative;}#sk-container-id-3 div.sk-item {position: relative;z-index: 1;}#sk-container-id-3 div.sk-parallel {display: flex;align-items: stretch;justify-content: center;background-color: white;position: relative;}#sk-container-id-3 div.sk-item::before, #sk-container-id-3 div.sk-parallel-item::before {content: \"\";position: absolute;border-left: 1px solid gray;box-sizing: border-box;top: 0;bottom: 0;left: 50%;z-index: -1;}#sk-container-id-3 div.sk-parallel-item {display: flex;flex-direction: column;z-index: 1;position: relative;background-color: white;}#sk-container-id-3 div.sk-parallel-item:first-child::after {align-self: flex-end;width: 50%;}#sk-container-id-3 div.sk-parallel-item:last-child::after {align-self: flex-start;width: 50%;}#sk-container-id-3 div.sk-parallel-item:only-child::after {width: 0;}#sk-container-id-3 div.sk-dashed-wrapped {border: 1px dashed gray;margin: 0 0.4em 0.5em 0.4em;box-sizing: border-box;padding-bottom: 0.4em;background-color: white;}#sk-container-id-3 div.sk-label label {font-family: monospace;font-weight: bold;display: inline-block;line-height: 1.2em;}#sk-container-id-3 div.sk-label-container {text-align: center;}#sk-container-id-3 div.sk-container {/* jupyter's `normalize.less` sets `[hidden] { display: none; }` but bootstrap.min.css set `[hidden] { display: none !important; }` so we also need the `!important` here to be able to override the default hidden behavior on the sphinx rendered scikit-learn.org. See: https://github.com/scikit-learn/scikit-learn/issues/21755 */display: inline-block !important;position: relative;}#sk-container-id-3 div.sk-text-repr-fallback {display: none;}</style><div id=\"sk-container-id-3\" class=\"sk-top-container\"><div class=\"sk-text-repr-fallback\"><pre>RandomForestClassifier(criterion=&#x27;entropy&#x27;)</pre><b>In a Jupyter environment, please rerun this cell to show the HTML representation or trust the notebook. <br />On GitHub, the HTML representation is unable to render, please try loading this page with nbviewer.org.</b></div><div class=\"sk-container\" hidden><div class=\"sk-item\"><div class=\"sk-estimator sk-toggleable\"><input class=\"sk-toggleable__control sk-hidden--visually\" id=\"sk-estimator-id-3\" type=\"checkbox\" checked><label for=\"sk-estimator-id-3\" class=\"sk-toggleable__label sk-toggleable__label-arrow\">RandomForestClassifier</label><div class=\"sk-toggleable__content\"><pre>RandomForestClassifier(criterion=&#x27;entropy&#x27;)</pre></div></div></div></div></div>"
      ],
      "text/plain": [
       "RandomForestClassifier(criterion='entropy')"
      ]
     },
     "execution_count": 60,
     "metadata": {},
     "output_type": "execute_result"
    }
   ],
   "source": [
    "\n",
    "model"
   ]
  },
  {
   "cell_type": "code",
   "execution_count": 80,
   "id": "6b275e68",
   "metadata": {},
   "outputs": [
    {
     "data": {
      "text/plain": [
       "array([1])"
      ]
     },
     "execution_count": 80,
     "metadata": {},
     "output_type": "execute_result"
    }
   ],
   "source": [
    "model=pickle.load(open('ref_model.pkl','rb'))\n",
    "op=pd.DataFrame({'Air temperature [K]':1000000,\n",
    "                 'Process temperature [K]':1,\n",
    "                 'Rotational speed [rpm]':1000,\n",
    "                 'Torque [Nm]':100,\n",
    "                 'Tool wear [min]':1,\n",
    "                 'Type_H':1,\n",
    "                 'Type_L':0,\n",
    "                 'Type_M':0},index=[1])\n",
    "pred=model.predict(op)\n",
    "pred"
   ]
  }
 ],
 "metadata": {
  "kernelspec": {
   "display_name": "Python 3 (ipykernel)",
   "language": "python",
   "name": "python3"
  },
  "language_info": {
   "codemirror_mode": {
    "name": "ipython",
    "version": 3
   },
   "file_extension": ".py",
   "mimetype": "text/x-python",
   "name": "python",
   "nbconvert_exporter": "python",
   "pygments_lexer": "ipython3",
   "version": "3.10.4"
  }
 },
 "nbformat": 4,
 "nbformat_minor": 5
}
